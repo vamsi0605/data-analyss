{
 "cells": [
  {
   "cell_type": "code",
   "execution_count": 1,
   "id": "6f2f3129",
   "metadata": {},
   "outputs": [],
   "source": [
    "import numpy as np"
   ]
  },
  {
   "cell_type": "code",
   "execution_count": 2,
   "id": "3c3fb25f",
   "metadata": {},
   "outputs": [
    {
     "data": {
      "text/plain": [
       "array([1, 2, 3, 4, 5])"
      ]
     },
     "execution_count": 2,
     "metadata": {},
     "output_type": "execute_result"
    }
   ],
   "source": [
    "arr=np.array([1,2,3,4,5])\n",
    "arr"
   ]
  },
  {
   "cell_type": "code",
   "execution_count": 3,
   "id": "ce74cb30",
   "metadata": {},
   "outputs": [
    {
     "data": {
      "text/plain": [
       "array([1., 2., 3., 4., 5.])"
      ]
     },
     "execution_count": 3,
     "metadata": {},
     "output_type": "execute_result"
    }
   ],
   "source": [
    "arr=np.array([1,2,3,4,5],dtype=\"float\")\n",
    "arr"
   ]
  },
  {
   "cell_type": "code",
   "execution_count": 4,
   "id": "8e3fa3b7",
   "metadata": {},
   "outputs": [
    {
     "data": {
      "text/plain": [
       "array([1, 2, 3, 4, 5])"
      ]
     },
     "execution_count": 4,
     "metadata": {},
     "output_type": "execute_result"
    }
   ],
   "source": [
    "ar1=np.array([1,2,3,4,5])\n",
    "ar1"
   ]
  },
  {
   "cell_type": "markdown",
   "id": "ac26e7fd",
   "metadata": {},
   "source": [
    "### pandas\n",
    "- it is a important module in data science libraries\n",
    "- stands for pannel data\n",
    "- data Structures\n",
    "    -series\n",
    "    -dataframes\n",
    "- with this we can do the data analysis,manipulations,cleaning\n",
    "- data analysation\n",
    "     - statistics of the data\n",
    "     - volume of the data\n",
    " - data manipulation\n",
    "     - changing data from one form to another\n",
    "     - merging and concatenation\n",
    " - data cleaning\n",
    "     - deleting unwanted data\n",
    "     - deleting null values and Nan values..etc\n",
    "     "
   ]
  },
  {
   "cell_type": "code",
   "execution_count": 9,
   "id": "71c80674",
   "metadata": {},
   "outputs": [],
   "source": [
    "import pandas as pd"
   ]
  },
  {
   "cell_type": "code",
   "execution_count": 10,
   "id": "417d47f3",
   "metadata": {},
   "outputs": [
    {
     "data": {
      "text/plain": [
       "'1.2.4'"
      ]
     },
     "execution_count": 10,
     "metadata": {},
     "output_type": "execute_result"
    }
   ],
   "source": [
    "pd.__version__"
   ]
  },
  {
   "cell_type": "code",
   "execution_count": 12,
   "id": "79506296",
   "metadata": {},
   "outputs": [],
   "source": [
    "# we can create the pandas series with list,string,tuple and also dictionaries"
   ]
  },
  {
   "cell_type": "code",
   "execution_count": 14,
   "id": "20024938",
   "metadata": {},
   "outputs": [],
   "source": [
    "#print(dir(pd))"
   ]
  },
  {
   "cell_type": "code",
   "execution_count": 15,
   "id": "9e5876ed",
   "metadata": {},
   "outputs": [
    {
     "data": {
      "text/plain": [
       "0    i am from VR\n",
       "dtype: object"
      ]
     },
     "execution_count": 15,
     "metadata": {},
     "output_type": "execute_result"
    }
   ],
   "source": [
    "a=pd.Series(\"i am from VR\")\n",
    "a"
   ]
  },
  {
   "cell_type": "code",
   "execution_count": 17,
   "id": "036fae08",
   "metadata": {},
   "outputs": [
    {
     "name": "stdout",
     "output_type": "stream",
     "text": [
      "i am from VR\n"
     ]
    },
    {
     "data": {
      "text/plain": [
       "0       i\n",
       "1      am\n",
       "2    from\n",
       "3      VR\n",
       "dtype: object"
      ]
     },
     "execution_count": 17,
     "metadata": {},
     "output_type": "execute_result"
    }
   ],
   "source": [
    "b=input()\n",
    "c=pd.Series(b.split(\" \"))\n",
    "c"
   ]
  },
  {
   "cell_type": "code",
   "execution_count": 18,
   "id": "49649281",
   "metadata": {},
   "outputs": [
    {
     "data": {
      "text/plain": [
       "0    4\n",
       "1    5\n",
       "2    6\n",
       "3    7\n",
       "4    8\n",
       "dtype: int64"
      ]
     },
     "execution_count": 18,
     "metadata": {},
     "output_type": "execute_result"
    }
   ],
   "source": [
    "t=(4,5,6,7,8)\n",
    "t1=pd.Series(t)\n",
    "t1"
   ]
  },
  {
   "cell_type": "code",
   "execution_count": 19,
   "id": "097fee3f",
   "metadata": {},
   "outputs": [
    {
     "data": {
      "text/plain": [
       "0    2\n",
       "1    3\n",
       "2    4\n",
       "3    5\n",
       "4    6\n",
       "dtype: int64"
      ]
     },
     "execution_count": 19,
     "metadata": {},
     "output_type": "execute_result"
    }
   ],
   "source": [
    "l1=[2,3,4,5,6]\n",
    "l2=pd.Series(l1)\n",
    "l2"
   ]
  },
  {
   "cell_type": "code",
   "execution_count": 20,
   "id": "10116ce3",
   "metadata": {},
   "outputs": [
    {
     "data": {
      "text/plain": [
       "1    2\n",
       "2    3\n",
       "3    4\n",
       "4    5\n",
       "dtype: int64"
      ]
     },
     "execution_count": 20,
     "metadata": {},
     "output_type": "execute_result"
    }
   ],
   "source": [
    "d={1:2,2:3,3:4,4:5}\n",
    "d1=pd.Series(d)\n",
    "d1"
   ]
  },
  {
   "cell_type": "code",
   "execution_count": 22,
   "id": "b73cffd1",
   "metadata": {},
   "outputs": [
    {
     "data": {
      "text/plain": [
       "array([0, 1, 2, 3, 4, 5, 6, 7])"
      ]
     },
     "execution_count": 22,
     "metadata": {},
     "output_type": "execute_result"
    }
   ],
   "source": [
    "a=np.arange(8)\n",
    "a"
   ]
  },
  {
   "cell_type": "code",
   "execution_count": 24,
   "id": "efa21db9",
   "metadata": {},
   "outputs": [
    {
     "data": {
      "text/plain": [
       "0    0\n",
       "1    1\n",
       "2    2\n",
       "3    3\n",
       "4    4\n",
       "5    5\n",
       "6    6\n",
       "7    7\n",
       "dtype: int32"
      ]
     },
     "execution_count": 24,
     "metadata": {},
     "output_type": "execute_result"
    }
   ],
   "source": [
    "d=pd.Series(a)\n",
    "d"
   ]
  },
  {
   "cell_type": "code",
   "execution_count": 26,
   "id": "65cbd902",
   "metadata": {},
   "outputs": [
    {
     "data": {
      "text/plain": [
       "0    20\n",
       "1    21\n",
       "2    22\n",
       "3    23\n",
       "4    24\n",
       "5    25\n",
       "dtype: int64"
      ]
     },
     "execution_count": 26,
     "metadata": {},
     "output_type": "execute_result"
    }
   ],
   "source": [
    "d=pd.Series(range(20,26))\n",
    "d"
   ]
  },
  {
   "cell_type": "code",
   "execution_count": 27,
   "id": "7a476e7b",
   "metadata": {},
   "outputs": [
    {
     "data": {
      "text/plain": [
       "{'list': [1, 2, 3], 'tuple': (1, 2, 3), 'string': 'hii', 'integer': 4}"
      ]
     },
     "execution_count": 27,
     "metadata": {},
     "output_type": "execute_result"
    }
   ],
   "source": [
    "dic={\"list\":[1,2,3],\"tuple\":(1,2,3),\"string\":\"hii\",\"integer\":4}\n",
    "dic"
   ]
  },
  {
   "cell_type": "code",
   "execution_count": 28,
   "id": "d2dda0d3",
   "metadata": {},
   "outputs": [
    {
     "data": {
      "text/plain": [
       "list       [1, 2, 3]\n",
       "tuple      (1, 2, 3)\n",
       "string           hii\n",
       "integer            4\n",
       "dtype: object"
      ]
     },
     "execution_count": 28,
     "metadata": {},
     "output_type": "execute_result"
    }
   ],
   "source": [
    "d=pd.Series(dic)\n",
    "d"
   ]
  },
  {
   "cell_type": "code",
   "execution_count": 30,
   "id": "a4758d22",
   "metadata": {},
   "outputs": [
    {
     "data": {
      "text/plain": [
       "Index(['list', 'tuple', 'string', 'integer'], dtype='object')"
      ]
     },
     "execution_count": 30,
     "metadata": {},
     "output_type": "execute_result"
    }
   ],
   "source": [
    "d.index"
   ]
  },
  {
   "cell_type": "code",
   "execution_count": 34,
   "id": "2dbd64f1",
   "metadata": {},
   "outputs": [
    {
     "data": {
      "text/plain": [
       "0    10\n",
       "1    15\n",
       "2    20\n",
       "3    25\n",
       "4    30\n",
       "5    35\n",
       "6    40\n",
       "7    45\n",
       "dtype: int32"
      ]
     },
     "execution_count": 34,
     "metadata": {},
     "output_type": "execute_result"
    }
   ],
   "source": [
    "arr=np.arange(10,50,5)\n",
    "arr1=pd.Series(arr)\n",
    "arr1"
   ]
  },
  {
   "cell_type": "code",
   "execution_count": 35,
   "id": "dd05b70c",
   "metadata": {},
   "outputs": [
    {
     "data": {
      "text/plain": [
       "10"
      ]
     },
     "execution_count": 35,
     "metadata": {},
     "output_type": "execute_result"
    }
   ],
   "source": [
    "arr1[0]"
   ]
  },
  {
   "cell_type": "code",
   "execution_count": 36,
   "id": "29de5da2",
   "metadata": {},
   "outputs": [
    {
     "data": {
      "text/plain": [
       "8"
      ]
     },
     "execution_count": 36,
     "metadata": {},
     "output_type": "execute_result"
    }
   ],
   "source": [
    "len(arr1)"
   ]
  },
  {
   "cell_type": "code",
   "execution_count": 37,
   "id": "0bb64472",
   "metadata": {},
   "outputs": [
    {
     "data": {
      "text/plain": [
       "45"
      ]
     },
     "execution_count": 37,
     "metadata": {},
     "output_type": "execute_result"
    }
   ],
   "source": [
    "arr1[len(arr)-1]"
   ]
  },
  {
   "cell_type": "code",
   "execution_count": 38,
   "id": "84df24b1",
   "metadata": {},
   "outputs": [
    {
     "data": {
      "text/plain": [
       "0    10\n",
       "1    15\n",
       "dtype: int32"
      ]
     },
     "execution_count": 38,
     "metadata": {},
     "output_type": "execute_result"
    }
   ],
   "source": [
    "arr1[0:2]"
   ]
  },
  {
   "cell_type": "code",
   "execution_count": 39,
   "id": "24b2ae90",
   "metadata": {},
   "outputs": [
    {
     "data": {
      "text/plain": [
       "RangeIndex(start=0, stop=8, step=1)"
      ]
     },
     "execution_count": 39,
     "metadata": {},
     "output_type": "execute_result"
    }
   ],
   "source": [
    "arr1.index"
   ]
  },
  {
   "cell_type": "code",
   "execution_count": 40,
   "id": "1f5c77be",
   "metadata": {},
   "outputs": [
    {
     "data": {
      "text/plain": [
       "223     10\n",
       "122     15\n",
       "122     20\n",
       "3344    25\n",
       "2334    30\n",
       "123     35\n",
       "422     40\n",
       "455     45\n",
       "dtype: int32"
      ]
     },
     "execution_count": 40,
     "metadata": {},
     "output_type": "execute_result"
    }
   ],
   "source": [
    "arr1.index=[223,122,122,3344,2334,123,422,455]\n",
    "arr1"
   ]
  },
  {
   "cell_type": "code",
   "execution_count": 42,
   "id": "4096f025",
   "metadata": {},
   "outputs": [
    {
     "data": {
      "text/plain": [
       "1       hi\n",
       "2    hello\n",
       "3     good\n",
       "4     hope\n",
       "dtype: object"
      ]
     },
     "execution_count": 42,
     "metadata": {},
     "output_type": "execute_result"
    }
   ],
   "source": [
    "li=[\"hi\",\"hello\",\"good\",\"hope\"]\n",
    "pd.Series(li,index=(1,2,3,4))"
   ]
  },
  {
   "cell_type": "code",
   "execution_count": 44,
   "id": "92d88b5b",
   "metadata": {},
   "outputs": [
    {
     "data": {
      "text/plain": [
       "15       hi\n",
       "16    hello\n",
       "17     good\n",
       "18     hope\n",
       "dtype: object"
      ]
     },
     "execution_count": 44,
     "metadata": {},
     "output_type": "execute_result"
    }
   ],
   "source": [
    "li=[\"hi\",\"hello\",\"good\",\"hope\"]\n",
    "ind=[i for i in range(15,19)] #list comprehension\n",
    "pd.Series(li,index=ind)"
   ]
  },
  {
   "cell_type": "code",
   "execution_count": 45,
   "id": "f0f4af68",
   "metadata": {},
   "outputs": [
    {
     "data": {
      "text/plain": [
       "list       [1, 2, 3]\n",
       "tuple      (1, 2, 3)\n",
       "string           hii\n",
       "integer            4\n",
       "dtype: object"
      ]
     },
     "execution_count": 45,
     "metadata": {},
     "output_type": "execute_result"
    }
   ],
   "source": [
    "d"
   ]
  },
  {
   "cell_type": "code",
   "execution_count": 46,
   "id": "d46c26cb",
   "metadata": {},
   "outputs": [
    {
     "data": {
      "text/plain": [
       "{'list': [1, 2, 3], 'tuple': (1, 2, 3), 'string': 'hii', 'integer': 4}"
      ]
     },
     "execution_count": 46,
     "metadata": {},
     "output_type": "execute_result"
    }
   ],
   "source": [
    "dic"
   ]
  },
  {
   "cell_type": "code",
   "execution_count": 48,
   "id": "640c05ca",
   "metadata": {},
   "outputs": [
    {
     "data": {
      "text/plain": [
       "15    NaN\n",
       "16    NaN\n",
       "17    NaN\n",
       "18    NaN\n",
       "dtype: object"
      ]
     },
     "execution_count": 48,
     "metadata": {},
     "output_type": "execute_result"
    }
   ],
   "source": [
    "dict2=pd.Series(dic,index=ind)\n",
    "dict2"
   ]
  },
  {
   "cell_type": "code",
   "execution_count": 49,
   "id": "0c26489b",
   "metadata": {},
   "outputs": [
    {
     "data": {
      "text/plain": [
       "Int64Index([15, 16, 17, 18], dtype='int64')"
      ]
     },
     "execution_count": 49,
     "metadata": {},
     "output_type": "execute_result"
    }
   ],
   "source": [
    "dict2.index"
   ]
  },
  {
   "cell_type": "markdown",
   "id": "dbd39f84",
   "metadata": {},
   "source": [
    "### Data Frames\n",
    "   - data is in 2nd format"
   ]
  },
  {
   "cell_type": "code",
   "execution_count": 50,
   "id": "bb83fca1",
   "metadata": {},
   "outputs": [
    {
     "data": {
      "text/html": [
       "<div>\n",
       "<style scoped>\n",
       "    .dataframe tbody tr th:only-of-type {\n",
       "        vertical-align: middle;\n",
       "    }\n",
       "\n",
       "    .dataframe tbody tr th {\n",
       "        vertical-align: top;\n",
       "    }\n",
       "\n",
       "    .dataframe thead th {\n",
       "        text-align: right;\n",
       "    }\n",
       "</style>\n",
       "<table border=\"1\" class=\"dataframe\">\n",
       "  <thead>\n",
       "    <tr style=\"text-align: right;\">\n",
       "      <th></th>\n",
       "      <th>list</th>\n",
       "      <th>tuple</th>\n",
       "      <th>string</th>\n",
       "      <th>integer</th>\n",
       "    </tr>\n",
       "  </thead>\n",
       "  <tbody>\n",
       "    <tr>\n",
       "      <th>0</th>\n",
       "      <td>1</td>\n",
       "      <td>1</td>\n",
       "      <td>hii</td>\n",
       "      <td>4</td>\n",
       "    </tr>\n",
       "    <tr>\n",
       "      <th>1</th>\n",
       "      <td>2</td>\n",
       "      <td>2</td>\n",
       "      <td>hii</td>\n",
       "      <td>4</td>\n",
       "    </tr>\n",
       "    <tr>\n",
       "      <th>2</th>\n",
       "      <td>3</td>\n",
       "      <td>3</td>\n",
       "      <td>hii</td>\n",
       "      <td>4</td>\n",
       "    </tr>\n",
       "  </tbody>\n",
       "</table>\n",
       "</div>"
      ],
      "text/plain": [
       "   list  tuple string  integer\n",
       "0     1      1    hii        4\n",
       "1     2      2    hii        4\n",
       "2     3      3    hii        4"
      ]
     },
     "execution_count": 50,
     "metadata": {},
     "output_type": "execute_result"
    }
   ],
   "source": [
    "import pandas as pd\n",
    "import numpy as np\n",
    "pd.DataFrame(dic)"
   ]
  },
  {
   "cell_type": "code",
   "execution_count": 51,
   "id": "b77e4193",
   "metadata": {},
   "outputs": [
    {
     "data": {
      "text/plain": [
       "{56: 'fiftysix', 'float': 10.23, 'prgm': 'workshop', 'name': 'DA'}"
      ]
     },
     "execution_count": 51,
     "metadata": {},
     "output_type": "execute_result"
    }
   ],
   "source": [
    "data={56:\"fiftysix\",\"float\":10.23,\"prgm\":\"workshop\",\"name\":\"DA\"}\n",
    "data"
   ]
  },
  {
   "cell_type": "code",
   "execution_count": 53,
   "id": "1c8b5269",
   "metadata": {},
   "outputs": [
    {
     "data": {
      "text/html": [
       "<div>\n",
       "<style scoped>\n",
       "    .dataframe tbody tr th:only-of-type {\n",
       "        vertical-align: middle;\n",
       "    }\n",
       "\n",
       "    .dataframe tbody tr th {\n",
       "        vertical-align: top;\n",
       "    }\n",
       "\n",
       "    .dataframe thead th {\n",
       "        text-align: right;\n",
       "    }\n",
       "</style>\n",
       "<table border=\"1\" class=\"dataframe\">\n",
       "  <thead>\n",
       "    <tr style=\"text-align: right;\">\n",
       "      <th></th>\n",
       "      <th>56</th>\n",
       "      <th>float</th>\n",
       "      <th>prgm</th>\n",
       "      <th>name</th>\n",
       "    </tr>\n",
       "  </thead>\n",
       "  <tbody>\n",
       "    <tr>\n",
       "      <th>i</th>\n",
       "      <td>fiftysix</td>\n",
       "      <td>10.23</td>\n",
       "      <td>workshop</td>\n",
       "      <td>DA</td>\n",
       "    </tr>\n",
       "    <tr>\n",
       "      <th>am</th>\n",
       "      <td>fiftysix</td>\n",
       "      <td>10.23</td>\n",
       "      <td>workshop</td>\n",
       "      <td>DA</td>\n",
       "    </tr>\n",
       "    <tr>\n",
       "      <th>in</th>\n",
       "      <td>fiftysix</td>\n",
       "      <td>10.23</td>\n",
       "      <td>workshop</td>\n",
       "      <td>DA</td>\n",
       "    </tr>\n",
       "    <tr>\n",
       "      <th>Vr</th>\n",
       "      <td>fiftysix</td>\n",
       "      <td>10.23</td>\n",
       "      <td>workshop</td>\n",
       "      <td>DA</td>\n",
       "    </tr>\n",
       "  </tbody>\n",
       "</table>\n",
       "</div>"
      ],
      "text/plain": [
       "          56  float      prgm name\n",
       "i   fiftysix  10.23  workshop   DA\n",
       "am  fiftysix  10.23  workshop   DA\n",
       "in  fiftysix  10.23  workshop   DA\n",
       "Vr  fiftysix  10.23  workshop   DA"
      ]
     },
     "execution_count": 53,
     "metadata": {},
     "output_type": "execute_result"
    }
   ],
   "source": [
    "pd.DataFrame(data,index=\"i am in Vr\".split(\" \"))"
   ]
  },
  {
   "cell_type": "code",
   "execution_count": 54,
   "id": "e6660013",
   "metadata": {},
   "outputs": [],
   "source": [
    "df1=pd.DataFrame(dic)\n",
    "df2=pd.DataFrame(data,index=\"i am in Vr\".split(\" \"))"
   ]
  },
  {
   "cell_type": "code",
   "execution_count": 56,
   "id": "83cc122b",
   "metadata": {},
   "outputs": [
    {
     "data": {
      "text/html": [
       "<div>\n",
       "<style scoped>\n",
       "    .dataframe tbody tr th:only-of-type {\n",
       "        vertical-align: middle;\n",
       "    }\n",
       "\n",
       "    .dataframe tbody tr th {\n",
       "        vertical-align: top;\n",
       "    }\n",
       "\n",
       "    .dataframe thead th {\n",
       "        text-align: right;\n",
       "    }\n",
       "</style>\n",
       "<table border=\"1\" class=\"dataframe\">\n",
       "  <thead>\n",
       "    <tr style=\"text-align: right;\">\n",
       "      <th></th>\n",
       "      <th>list</th>\n",
       "      <th>tuple</th>\n",
       "      <th>string</th>\n",
       "      <th>integer</th>\n",
       "      <th>56</th>\n",
       "      <th>float</th>\n",
       "      <th>prgm</th>\n",
       "      <th>name</th>\n",
       "    </tr>\n",
       "  </thead>\n",
       "  <tbody>\n",
       "    <tr>\n",
       "      <th>0</th>\n",
       "      <td>1.0</td>\n",
       "      <td>1.0</td>\n",
       "      <td>hii</td>\n",
       "      <td>4.0</td>\n",
       "      <td>NaN</td>\n",
       "      <td>NaN</td>\n",
       "      <td>NaN</td>\n",
       "      <td>NaN</td>\n",
       "    </tr>\n",
       "    <tr>\n",
       "      <th>1</th>\n",
       "      <td>2.0</td>\n",
       "      <td>2.0</td>\n",
       "      <td>hii</td>\n",
       "      <td>4.0</td>\n",
       "      <td>NaN</td>\n",
       "      <td>NaN</td>\n",
       "      <td>NaN</td>\n",
       "      <td>NaN</td>\n",
       "    </tr>\n",
       "    <tr>\n",
       "      <th>2</th>\n",
       "      <td>3.0</td>\n",
       "      <td>3.0</td>\n",
       "      <td>hii</td>\n",
       "      <td>4.0</td>\n",
       "      <td>NaN</td>\n",
       "      <td>NaN</td>\n",
       "      <td>NaN</td>\n",
       "      <td>NaN</td>\n",
       "    </tr>\n",
       "    <tr>\n",
       "      <th>i</th>\n",
       "      <td>NaN</td>\n",
       "      <td>NaN</td>\n",
       "      <td>NaN</td>\n",
       "      <td>NaN</td>\n",
       "      <td>fiftysix</td>\n",
       "      <td>10.23</td>\n",
       "      <td>workshop</td>\n",
       "      <td>DA</td>\n",
       "    </tr>\n",
       "    <tr>\n",
       "      <th>am</th>\n",
       "      <td>NaN</td>\n",
       "      <td>NaN</td>\n",
       "      <td>NaN</td>\n",
       "      <td>NaN</td>\n",
       "      <td>fiftysix</td>\n",
       "      <td>10.23</td>\n",
       "      <td>workshop</td>\n",
       "      <td>DA</td>\n",
       "    </tr>\n",
       "    <tr>\n",
       "      <th>in</th>\n",
       "      <td>NaN</td>\n",
       "      <td>NaN</td>\n",
       "      <td>NaN</td>\n",
       "      <td>NaN</td>\n",
       "      <td>fiftysix</td>\n",
       "      <td>10.23</td>\n",
       "      <td>workshop</td>\n",
       "      <td>DA</td>\n",
       "    </tr>\n",
       "    <tr>\n",
       "      <th>Vr</th>\n",
       "      <td>NaN</td>\n",
       "      <td>NaN</td>\n",
       "      <td>NaN</td>\n",
       "      <td>NaN</td>\n",
       "      <td>fiftysix</td>\n",
       "      <td>10.23</td>\n",
       "      <td>workshop</td>\n",
       "      <td>DA</td>\n",
       "    </tr>\n",
       "  </tbody>\n",
       "</table>\n",
       "</div>"
      ],
      "text/plain": [
       "    list  tuple string  integer        56  float      prgm name\n",
       "0    1.0    1.0    hii      4.0       NaN    NaN       NaN  NaN\n",
       "1    2.0    2.0    hii      4.0       NaN    NaN       NaN  NaN\n",
       "2    3.0    3.0    hii      4.0       NaN    NaN       NaN  NaN\n",
       "i    NaN    NaN    NaN      NaN  fiftysix  10.23  workshop   DA\n",
       "am   NaN    NaN    NaN      NaN  fiftysix  10.23  workshop   DA\n",
       "in   NaN    NaN    NaN      NaN  fiftysix  10.23  workshop   DA\n",
       "Vr   NaN    NaN    NaN      NaN  fiftysix  10.23  workshop   DA"
      ]
     },
     "execution_count": 56,
     "metadata": {},
     "output_type": "execute_result"
    }
   ],
   "source": [
    "pd.concat([df1,df2])"
   ]
  },
  {
   "cell_type": "code",
   "execution_count": 58,
   "id": "2e0beeed",
   "metadata": {},
   "outputs": [
    {
     "data": {
      "text/plain": [
       "{'first': [1, 2, 3, 4], 'second': [5, 6, 7, 8], 'third': (45, 56, 78, 79)}"
      ]
     },
     "execution_count": 58,
     "metadata": {},
     "output_type": "execute_result"
    }
   ],
   "source": [
    "dict3={\"first\":[1,2,3,4],\"second\":[5,6,7,8],\"third\":(45,56,78,79)}\n",
    "dict3"
   ]
  },
  {
   "cell_type": "code",
   "execution_count": 59,
   "id": "cc24adff",
   "metadata": {},
   "outputs": [
    {
     "data": {
      "text/html": [
       "<div>\n",
       "<style scoped>\n",
       "    .dataframe tbody tr th:only-of-type {\n",
       "        vertical-align: middle;\n",
       "    }\n",
       "\n",
       "    .dataframe tbody tr th {\n",
       "        vertical-align: top;\n",
       "    }\n",
       "\n",
       "    .dataframe thead th {\n",
       "        text-align: right;\n",
       "    }\n",
       "</style>\n",
       "<table border=\"1\" class=\"dataframe\">\n",
       "  <thead>\n",
       "    <tr style=\"text-align: right;\">\n",
       "      <th></th>\n",
       "      <th>first</th>\n",
       "      <th>second</th>\n",
       "      <th>third</th>\n",
       "    </tr>\n",
       "  </thead>\n",
       "  <tbody>\n",
       "    <tr>\n",
       "      <th>2001</th>\n",
       "      <td>1</td>\n",
       "      <td>5</td>\n",
       "      <td>45</td>\n",
       "    </tr>\n",
       "    <tr>\n",
       "      <th>2002</th>\n",
       "      <td>2</td>\n",
       "      <td>6</td>\n",
       "      <td>56</td>\n",
       "    </tr>\n",
       "    <tr>\n",
       "      <th>2003</th>\n",
       "      <td>3</td>\n",
       "      <td>7</td>\n",
       "      <td>78</td>\n",
       "    </tr>\n",
       "    <tr>\n",
       "      <th>2004</th>\n",
       "      <td>4</td>\n",
       "      <td>8</td>\n",
       "      <td>79</td>\n",
       "    </tr>\n",
       "  </tbody>\n",
       "</table>\n",
       "</div>"
      ],
      "text/plain": [
       "      first  second  third\n",
       "2001      1       5     45\n",
       "2002      2       6     56\n",
       "2003      3       7     78\n",
       "2004      4       8     79"
      ]
     },
     "execution_count": 59,
     "metadata": {},
     "output_type": "execute_result"
    }
   ],
   "source": [
    "df3=pd.DataFrame(dict3,index=[2001,2002,2003,2004])\n",
    "df3"
   ]
  },
  {
   "cell_type": "code",
   "execution_count": 61,
   "id": "bd83dc3c",
   "metadata": {},
   "outputs": [
    {
     "data": {
      "text/html": [
       "<div>\n",
       "<style scoped>\n",
       "    .dataframe tbody tr th:only-of-type {\n",
       "        vertical-align: middle;\n",
       "    }\n",
       "\n",
       "    .dataframe tbody tr th {\n",
       "        vertical-align: top;\n",
       "    }\n",
       "\n",
       "    .dataframe thead th {\n",
       "        text-align: right;\n",
       "    }\n",
       "</style>\n",
       "<table border=\"1\" class=\"dataframe\">\n",
       "  <thead>\n",
       "    <tr style=\"text-align: right;\">\n",
       "      <th></th>\n",
       "      <th>fourth</th>\n",
       "      <th>fifth</th>\n",
       "      <th>sixth</th>\n",
       "    </tr>\n",
       "  </thead>\n",
       "  <tbody>\n",
       "    <tr>\n",
       "      <th>2008</th>\n",
       "      <td>10</td>\n",
       "      <td>50</td>\n",
       "      <td>450</td>\n",
       "    </tr>\n",
       "    <tr>\n",
       "      <th>2002</th>\n",
       "      <td>20</td>\n",
       "      <td>60</td>\n",
       "      <td>560</td>\n",
       "    </tr>\n",
       "    <tr>\n",
       "      <th>2003</th>\n",
       "      <td>30</td>\n",
       "      <td>70</td>\n",
       "      <td>780</td>\n",
       "    </tr>\n",
       "    <tr>\n",
       "      <th>2007</th>\n",
       "      <td>40</td>\n",
       "      <td>80</td>\n",
       "      <td>790</td>\n",
       "    </tr>\n",
       "  </tbody>\n",
       "</table>\n",
       "</div>"
      ],
      "text/plain": [
       "      fourth  fifth  sixth\n",
       "2008      10     50    450\n",
       "2002      20     60    560\n",
       "2003      30     70    780\n",
       "2007      40     80    790"
      ]
     },
     "execution_count": 61,
     "metadata": {},
     "output_type": "execute_result"
    }
   ],
   "source": [
    "df4=pd.DataFrame({'fourth': [10, 20, 30, 40], \n",
    "                  'fifth': [50, 60, 70, 80], \n",
    "                  'sixth': (450, 560, 780, 790)},\n",
    "                 index=[2008,2002,2003,2007])\n",
    "df4"
   ]
  },
  {
   "cell_type": "code",
   "execution_count": 62,
   "id": "d485243d",
   "metadata": {},
   "outputs": [
    {
     "data": {
      "text/html": [
       "<div>\n",
       "<style scoped>\n",
       "    .dataframe tbody tr th:only-of-type {\n",
       "        vertical-align: middle;\n",
       "    }\n",
       "\n",
       "    .dataframe tbody tr th {\n",
       "        vertical-align: top;\n",
       "    }\n",
       "\n",
       "    .dataframe thead th {\n",
       "        text-align: right;\n",
       "    }\n",
       "</style>\n",
       "<table border=\"1\" class=\"dataframe\">\n",
       "  <thead>\n",
       "    <tr style=\"text-align: right;\">\n",
       "      <th></th>\n",
       "      <th>first</th>\n",
       "      <th>second</th>\n",
       "      <th>third</th>\n",
       "      <th>fourth</th>\n",
       "      <th>fifth</th>\n",
       "      <th>sixth</th>\n",
       "    </tr>\n",
       "  </thead>\n",
       "  <tbody>\n",
       "    <tr>\n",
       "      <th>2001</th>\n",
       "      <td>1</td>\n",
       "      <td>5</td>\n",
       "      <td>45</td>\n",
       "      <td>NaN</td>\n",
       "      <td>NaN</td>\n",
       "      <td>NaN</td>\n",
       "    </tr>\n",
       "    <tr>\n",
       "      <th>2002</th>\n",
       "      <td>2</td>\n",
       "      <td>6</td>\n",
       "      <td>56</td>\n",
       "      <td>20.0</td>\n",
       "      <td>60.0</td>\n",
       "      <td>560.0</td>\n",
       "    </tr>\n",
       "    <tr>\n",
       "      <th>2003</th>\n",
       "      <td>3</td>\n",
       "      <td>7</td>\n",
       "      <td>78</td>\n",
       "      <td>30.0</td>\n",
       "      <td>70.0</td>\n",
       "      <td>780.0</td>\n",
       "    </tr>\n",
       "    <tr>\n",
       "      <th>2004</th>\n",
       "      <td>4</td>\n",
       "      <td>8</td>\n",
       "      <td>79</td>\n",
       "      <td>NaN</td>\n",
       "      <td>NaN</td>\n",
       "      <td>NaN</td>\n",
       "    </tr>\n",
       "  </tbody>\n",
       "</table>\n",
       "</div>"
      ],
      "text/plain": [
       "      first  second  third  fourth  fifth  sixth\n",
       "2001      1       5     45     NaN    NaN    NaN\n",
       "2002      2       6     56    20.0   60.0  560.0\n",
       "2003      3       7     78    30.0   70.0  780.0\n",
       "2004      4       8     79     NaN    NaN    NaN"
      ]
     },
     "execution_count": 62,
     "metadata": {},
     "output_type": "execute_result"
    }
   ],
   "source": [
    "df3.join(df4)"
   ]
  },
  {
   "cell_type": "code",
   "execution_count": 63,
   "id": "c892f0f2",
   "metadata": {},
   "outputs": [
    {
     "data": {
      "text/html": [
       "<div>\n",
       "<style scoped>\n",
       "    .dataframe tbody tr th:only-of-type {\n",
       "        vertical-align: middle;\n",
       "    }\n",
       "\n",
       "    .dataframe tbody tr th {\n",
       "        vertical-align: top;\n",
       "    }\n",
       "\n",
       "    .dataframe thead th {\n",
       "        text-align: right;\n",
       "    }\n",
       "</style>\n",
       "<table border=\"1\" class=\"dataframe\">\n",
       "  <thead>\n",
       "    <tr style=\"text-align: right;\">\n",
       "      <th></th>\n",
       "      <th>fourth</th>\n",
       "      <th>fifth</th>\n",
       "      <th>sixth</th>\n",
       "      <th>first</th>\n",
       "      <th>second</th>\n",
       "      <th>third</th>\n",
       "    </tr>\n",
       "  </thead>\n",
       "  <tbody>\n",
       "    <tr>\n",
       "      <th>2008</th>\n",
       "      <td>10</td>\n",
       "      <td>50</td>\n",
       "      <td>450</td>\n",
       "      <td>NaN</td>\n",
       "      <td>NaN</td>\n",
       "      <td>NaN</td>\n",
       "    </tr>\n",
       "    <tr>\n",
       "      <th>2002</th>\n",
       "      <td>20</td>\n",
       "      <td>60</td>\n",
       "      <td>560</td>\n",
       "      <td>2.0</td>\n",
       "      <td>6.0</td>\n",
       "      <td>56.0</td>\n",
       "    </tr>\n",
       "    <tr>\n",
       "      <th>2003</th>\n",
       "      <td>30</td>\n",
       "      <td>70</td>\n",
       "      <td>780</td>\n",
       "      <td>3.0</td>\n",
       "      <td>7.0</td>\n",
       "      <td>78.0</td>\n",
       "    </tr>\n",
       "    <tr>\n",
       "      <th>2007</th>\n",
       "      <td>40</td>\n",
       "      <td>80</td>\n",
       "      <td>790</td>\n",
       "      <td>NaN</td>\n",
       "      <td>NaN</td>\n",
       "      <td>NaN</td>\n",
       "    </tr>\n",
       "  </tbody>\n",
       "</table>\n",
       "</div>"
      ],
      "text/plain": [
       "      fourth  fifth  sixth  first  second  third\n",
       "2008      10     50    450    NaN     NaN    NaN\n",
       "2002      20     60    560    2.0     6.0   56.0\n",
       "2003      30     70    780    3.0     7.0   78.0\n",
       "2007      40     80    790    NaN     NaN    NaN"
      ]
     },
     "execution_count": 63,
     "metadata": {},
     "output_type": "execute_result"
    }
   ],
   "source": [
    "df4.join(df3)"
   ]
  },
  {
   "cell_type": "code",
   "execution_count": 69,
   "id": "f3788e16",
   "metadata": {},
   "outputs": [
    {
     "data": {
      "text/html": [
       "<div>\n",
       "<style scoped>\n",
       "    .dataframe tbody tr th:only-of-type {\n",
       "        vertical-align: middle;\n",
       "    }\n",
       "\n",
       "    .dataframe tbody tr th {\n",
       "        vertical-align: top;\n",
       "    }\n",
       "\n",
       "    .dataframe thead th {\n",
       "        text-align: right;\n",
       "    }\n",
       "</style>\n",
       "<table border=\"1\" class=\"dataframe\">\n",
       "  <thead>\n",
       "    <tr style=\"text-align: right;\">\n",
       "      <th></th>\n",
       "      <th>a</th>\n",
       "      <th>b</th>\n",
       "      <th>c</th>\n",
       "    </tr>\n",
       "  </thead>\n",
       "  <tbody>\n",
       "    <tr>\n",
       "      <th>these</th>\n",
       "      <td>78</td>\n",
       "      <td>65</td>\n",
       "      <td>67</td>\n",
       "    </tr>\n",
       "    <tr>\n",
       "      <th>are</th>\n",
       "      <td>89</td>\n",
       "      <td>80</td>\n",
       "      <td>89</td>\n",
       "    </tr>\n",
       "    <tr>\n",
       "      <th>integer</th>\n",
       "      <td>56</td>\n",
       "      <td>34</td>\n",
       "      <td>45</td>\n",
       "    </tr>\n",
       "    <tr>\n",
       "      <th>values</th>\n",
       "      <td>23</td>\n",
       "      <td>45</td>\n",
       "      <td>23</td>\n",
       "    </tr>\n",
       "  </tbody>\n",
       "</table>\n",
       "</div>"
      ],
      "text/plain": [
       "          a   b   c\n",
       "these    78  65  67\n",
       "are      89  80  89\n",
       "integer  56  34  45\n",
       "values   23  45  23"
      ]
     },
     "execution_count": 69,
     "metadata": {},
     "output_type": "execute_result"
    }
   ],
   "source": [
    "df5=pd.DataFrame({\"a\":[78,89,56,23],\n",
    "                  \"b\":(65,80,34,45),\n",
    "                  \"c\":[67,89,45,23]},index=\"these are integer values\".split())\n",
    "df5"
   ]
  },
  {
   "cell_type": "code",
   "execution_count": 78,
   "id": "678c91e6",
   "metadata": {},
   "outputs": [
    {
     "data": {
      "text/html": [
       "<div>\n",
       "<style scoped>\n",
       "    .dataframe tbody tr th:only-of-type {\n",
       "        vertical-align: middle;\n",
       "    }\n",
       "\n",
       "    .dataframe tbody tr th {\n",
       "        vertical-align: top;\n",
       "    }\n",
       "\n",
       "    .dataframe thead th {\n",
       "        text-align: right;\n",
       "    }\n",
       "</style>\n",
       "<table border=\"1\" class=\"dataframe\">\n",
       "  <thead>\n",
       "    <tr style=\"text-align: right;\">\n",
       "      <th></th>\n",
       "      <th>a</th>\n",
       "      <th>b</th>\n",
       "      <th>c</th>\n",
       "    </tr>\n",
       "  </thead>\n",
       "  <tbody>\n",
       "    <tr>\n",
       "      <th>these</th>\n",
       "      <td>78</td>\n",
       "      <td>65</td>\n",
       "      <td>67</td>\n",
       "    </tr>\n",
       "    <tr>\n",
       "      <th>are</th>\n",
       "      <td>89</td>\n",
       "      <td>80</td>\n",
       "      <td>89</td>\n",
       "    </tr>\n",
       "    <tr>\n",
       "      <th>integer</th>\n",
       "      <td>56</td>\n",
       "      <td>344</td>\n",
       "      <td>45</td>\n",
       "    </tr>\n",
       "    <tr>\n",
       "      <th>values</th>\n",
       "      <td>23</td>\n",
       "      <td>45</td>\n",
       "      <td>23</td>\n",
       "    </tr>\n",
       "  </tbody>\n",
       "</table>\n",
       "</div>"
      ],
      "text/plain": [
       "          a    b   c\n",
       "these    78   65  67\n",
       "are      89   80  89\n",
       "integer  56  344  45\n",
       "values   23   45  23"
      ]
     },
     "execution_count": 78,
     "metadata": {},
     "output_type": "execute_result"
    }
   ],
   "source": [
    "df6=pd.DataFrame({\"a\":[78,89,56,23],\n",
    "                  \"b\":(65,80,344,45),\n",
    "                  \"c\":[67,89,45,23]},index=\"these are integer values\".split())\n",
    "df6"
   ]
  },
  {
   "cell_type": "code",
   "execution_count": 79,
   "id": "af661698",
   "metadata": {},
   "outputs": [
    {
     "data": {
      "text/html": [
       "<div>\n",
       "<style scoped>\n",
       "    .dataframe tbody tr th:only-of-type {\n",
       "        vertical-align: middle;\n",
       "    }\n",
       "\n",
       "    .dataframe tbody tr th {\n",
       "        vertical-align: top;\n",
       "    }\n",
       "\n",
       "    .dataframe thead th {\n",
       "        text-align: right;\n",
       "    }\n",
       "</style>\n",
       "<table border=\"1\" class=\"dataframe\">\n",
       "  <thead>\n",
       "    <tr style=\"text-align: right;\">\n",
       "      <th></th>\n",
       "      <th>a</th>\n",
       "      <th>b</th>\n",
       "      <th>c</th>\n",
       "    </tr>\n",
       "  </thead>\n",
       "  <tbody>\n",
       "    <tr>\n",
       "      <th>0</th>\n",
       "      <td>78</td>\n",
       "      <td>65</td>\n",
       "      <td>67</td>\n",
       "    </tr>\n",
       "    <tr>\n",
       "      <th>1</th>\n",
       "      <td>89</td>\n",
       "      <td>80</td>\n",
       "      <td>89</td>\n",
       "    </tr>\n",
       "    <tr>\n",
       "      <th>2</th>\n",
       "      <td>23</td>\n",
       "      <td>45</td>\n",
       "      <td>23</td>\n",
       "    </tr>\n",
       "  </tbody>\n",
       "</table>\n",
       "</div>"
      ],
      "text/plain": [
       "    a   b   c\n",
       "0  78  65  67\n",
       "1  89  80  89\n",
       "2  23  45  23"
      ]
     },
     "execution_count": 79,
     "metadata": {},
     "output_type": "execute_result"
    }
   ],
   "source": [
    "df5.merge(df6)"
   ]
  },
  {
   "cell_type": "code",
   "execution_count": 80,
   "id": "0ccb0806",
   "metadata": {},
   "outputs": [
    {
     "data": {
      "text/html": [
       "<div>\n",
       "<style scoped>\n",
       "    .dataframe tbody tr th:only-of-type {\n",
       "        vertical-align: middle;\n",
       "    }\n",
       "\n",
       "    .dataframe tbody tr th {\n",
       "        vertical-align: top;\n",
       "    }\n",
       "\n",
       "    .dataframe thead th {\n",
       "        text-align: right;\n",
       "    }\n",
       "</style>\n",
       "<table border=\"1\" class=\"dataframe\">\n",
       "  <thead>\n",
       "    <tr style=\"text-align: right;\">\n",
       "      <th></th>\n",
       "      <th>a</th>\n",
       "      <th>b</th>\n",
       "      <th>c</th>\n",
       "    </tr>\n",
       "  </thead>\n",
       "  <tbody>\n",
       "    <tr>\n",
       "      <th>0</th>\n",
       "      <td>78</td>\n",
       "      <td>65</td>\n",
       "      <td>67</td>\n",
       "    </tr>\n",
       "    <tr>\n",
       "      <th>1</th>\n",
       "      <td>89</td>\n",
       "      <td>80</td>\n",
       "      <td>89</td>\n",
       "    </tr>\n",
       "    <tr>\n",
       "      <th>2</th>\n",
       "      <td>23</td>\n",
       "      <td>45</td>\n",
       "      <td>23</td>\n",
       "    </tr>\n",
       "  </tbody>\n",
       "</table>\n",
       "</div>"
      ],
      "text/plain": [
       "    a   b   c\n",
       "0  78  65  67\n",
       "1  89  80  89\n",
       "2  23  45  23"
      ]
     },
     "execution_count": 80,
     "metadata": {},
     "output_type": "execute_result"
    }
   ],
   "source": [
    "df6.merge(df5)"
   ]
  },
  {
   "cell_type": "code",
   "execution_count": 81,
   "id": "49110afe",
   "metadata": {},
   "outputs": [
    {
     "data": {
      "text/html": [
       "<div>\n",
       "<style scoped>\n",
       "    .dataframe tbody tr th:only-of-type {\n",
       "        vertical-align: middle;\n",
       "    }\n",
       "\n",
       "    .dataframe tbody tr th {\n",
       "        vertical-align: top;\n",
       "    }\n",
       "\n",
       "    .dataframe thead th {\n",
       "        text-align: right;\n",
       "    }\n",
       "</style>\n",
       "<table border=\"1\" class=\"dataframe\">\n",
       "  <thead>\n",
       "    <tr style=\"text-align: right;\">\n",
       "      <th></th>\n",
       "      <th>a</th>\n",
       "      <th>b_x</th>\n",
       "      <th>c_x</th>\n",
       "      <th>b_y</th>\n",
       "      <th>c_y</th>\n",
       "    </tr>\n",
       "  </thead>\n",
       "  <tbody>\n",
       "    <tr>\n",
       "      <th>0</th>\n",
       "      <td>78</td>\n",
       "      <td>65</td>\n",
       "      <td>67</td>\n",
       "      <td>65</td>\n",
       "      <td>67</td>\n",
       "    </tr>\n",
       "    <tr>\n",
       "      <th>1</th>\n",
       "      <td>89</td>\n",
       "      <td>80</td>\n",
       "      <td>89</td>\n",
       "      <td>80</td>\n",
       "      <td>89</td>\n",
       "    </tr>\n",
       "    <tr>\n",
       "      <th>2</th>\n",
       "      <td>56</td>\n",
       "      <td>344</td>\n",
       "      <td>45</td>\n",
       "      <td>34</td>\n",
       "      <td>45</td>\n",
       "    </tr>\n",
       "    <tr>\n",
       "      <th>3</th>\n",
       "      <td>23</td>\n",
       "      <td>45</td>\n",
       "      <td>23</td>\n",
       "      <td>45</td>\n",
       "      <td>23</td>\n",
       "    </tr>\n",
       "  </tbody>\n",
       "</table>\n",
       "</div>"
      ],
      "text/plain": [
       "    a  b_x  c_x  b_y  c_y\n",
       "0  78   65   67   65   67\n",
       "1  89   80   89   80   89\n",
       "2  56  344   45   34   45\n",
       "3  23   45   23   45   23"
      ]
     },
     "execution_count": 81,
     "metadata": {},
     "output_type": "execute_result"
    }
   ],
   "source": [
    "df6.merge(df5,on=\"a\")"
   ]
  },
  {
   "cell_type": "code",
   "execution_count": 82,
   "id": "b6014473",
   "metadata": {},
   "outputs": [
    {
     "data": {
      "text/html": [
       "<div>\n",
       "<style scoped>\n",
       "    .dataframe tbody tr th:only-of-type {\n",
       "        vertical-align: middle;\n",
       "    }\n",
       "\n",
       "    .dataframe tbody tr th {\n",
       "        vertical-align: top;\n",
       "    }\n",
       "\n",
       "    .dataframe thead th {\n",
       "        text-align: right;\n",
       "    }\n",
       "</style>\n",
       "<table border=\"1\" class=\"dataframe\">\n",
       "  <thead>\n",
       "    <tr style=\"text-align: right;\">\n",
       "      <th></th>\n",
       "      <th>ab</th>\n",
       "      <th>ba</th>\n",
       "      <th>cb</th>\n",
       "    </tr>\n",
       "  </thead>\n",
       "  <tbody>\n",
       "    <tr>\n",
       "      <th>0</th>\n",
       "      <td>78</td>\n",
       "      <td>65</td>\n",
       "      <td>67</td>\n",
       "    </tr>\n",
       "    <tr>\n",
       "      <th>1</th>\n",
       "      <td>89</td>\n",
       "      <td>80</td>\n",
       "      <td>89</td>\n",
       "    </tr>\n",
       "    <tr>\n",
       "      <th>2</th>\n",
       "      <td>23</td>\n",
       "      <td>45</td>\n",
       "      <td>23</td>\n",
       "    </tr>\n",
       "  </tbody>\n",
       "</table>\n",
       "</div>"
      ],
      "text/plain": [
       "   ab  ba  cb\n",
       "0  78  65  67\n",
       "1  89  80  89\n",
       "2  23  45  23"
      ]
     },
     "execution_count": 82,
     "metadata": {},
     "output_type": "execute_result"
    }
   ],
   "source": [
    "new=df5.merge(df6)\n",
    "new.columns=[\"ab\",\"ba\",\"cb\"]\n",
    "new"
   ]
  },
  {
   "cell_type": "code",
   "execution_count": 84,
   "id": "7ff00183",
   "metadata": {},
   "outputs": [
    {
     "data": {
      "text/html": [
       "<div>\n",
       "<style scoped>\n",
       "    .dataframe tbody tr th:only-of-type {\n",
       "        vertical-align: middle;\n",
       "    }\n",
       "\n",
       "    .dataframe tbody tr th {\n",
       "        vertical-align: top;\n",
       "    }\n",
       "\n",
       "    .dataframe thead th {\n",
       "        text-align: right;\n",
       "    }\n",
       "</style>\n",
       "<table border=\"1\" class=\"dataframe\">\n",
       "  <thead>\n",
       "    <tr style=\"text-align: right;\">\n",
       "      <th></th>\n",
       "      <th>ab</th>\n",
       "      <th>ba</th>\n",
       "      <th>cb</th>\n",
       "    </tr>\n",
       "  </thead>\n",
       "  <tbody>\n",
       "    <tr>\n",
       "      <th>20</th>\n",
       "      <td>78</td>\n",
       "      <td>65</td>\n",
       "      <td>67</td>\n",
       "    </tr>\n",
       "    <tr>\n",
       "      <th>30</th>\n",
       "      <td>89</td>\n",
       "      <td>80</td>\n",
       "      <td>89</td>\n",
       "    </tr>\n",
       "    <tr>\n",
       "      <th>40</th>\n",
       "      <td>23</td>\n",
       "      <td>45</td>\n",
       "      <td>23</td>\n",
       "    </tr>\n",
       "  </tbody>\n",
       "</table>\n",
       "</div>"
      ],
      "text/plain": [
       "    ab  ba  cb\n",
       "20  78  65  67\n",
       "30  89  80  89\n",
       "40  23  45  23"
      ]
     },
     "execution_count": 84,
     "metadata": {},
     "output_type": "execute_result"
    }
   ],
   "source": [
    "new=df5.merge(df6)\n",
    "new.columns=[\"ab\",\"ba\",\"cb\"]\n",
    "new.index=(20,30,40)\n",
    "new"
   ]
  },
  {
   "cell_type": "code",
   "execution_count": 85,
   "id": "fff8a6ba",
   "metadata": {},
   "outputs": [
    {
     "data": {
      "text/plain": [
       "DatetimeIndex(['2022-01-01', '2022-01-02', '2022-01-03', '2022-01-04',\n",
       "               '2022-01-05', '2022-01-06', '2022-01-07', '2022-01-08',\n",
       "               '2022-01-09', '2022-01-10', '2022-01-11', '2022-01-12',\n",
       "               '2022-01-13', '2022-01-14', '2022-01-15'],\n",
       "              dtype='datetime64[ns]', freq='D')"
      ]
     },
     "execution_count": 85,
     "metadata": {},
     "output_type": "execute_result"
    }
   ],
   "source": [
    "dt=pd.date_range('2022-01-01','2022-01-15')\n",
    "dt"
   ]
  },
  {
   "cell_type": "code",
   "execution_count": 86,
   "id": "6b6e301a",
   "metadata": {},
   "outputs": [
    {
     "data": {
      "text/plain": [
       "DatetimeIndex(['2022-01-01 00:00:00', '2022-01-03 19:12:00',\n",
       "               '2022-01-06 14:24:00', '2022-01-09 09:36:00',\n",
       "               '2022-01-12 04:48:00', '2022-01-15 00:00:00'],\n",
       "              dtype='datetime64[ns]', freq=None)"
      ]
     },
     "execution_count": 86,
     "metadata": {},
     "output_type": "execute_result"
    }
   ],
   "source": [
    "dt=pd.date_range('2022-01-01','2022-01-15',periods=6)\n",
    "dt"
   ]
  },
  {
   "cell_type": "code",
   "execution_count": 87,
   "id": "bce862ad",
   "metadata": {},
   "outputs": [
    {
     "data": {
      "text/plain": [
       "0   2022-01-01 00:00:00\n",
       "1   2022-01-03 19:12:00\n",
       "2   2022-01-06 14:24:00\n",
       "3   2022-01-09 09:36:00\n",
       "4   2022-01-12 04:48:00\n",
       "5   2022-01-15 00:00:00\n",
       "dtype: datetime64[ns]"
      ]
     },
     "execution_count": 87,
     "metadata": {},
     "output_type": "execute_result"
    }
   ],
   "source": [
    "dt=pd.date_range('2022-01-01','2022-01-15',periods=6)\n",
    "pd.Series(dt)"
   ]
  },
  {
   "cell_type": "code",
   "execution_count": 92,
   "id": "c750c20e",
   "metadata": {},
   "outputs": [],
   "source": [
    "temp=[23,45,67,88,12,90]\n",
    "dt1=pd.Series(temp,index=dt)"
   ]
  },
  {
   "cell_type": "code",
   "execution_count": 94,
   "id": "6d7a06a5",
   "metadata": {},
   "outputs": [
    {
     "data": {
      "text/plain": [
       "2022-01-06 14:24:00    67\n",
       "dtype: int64"
      ]
     },
     "execution_count": 94,
     "metadata": {},
     "output_type": "execute_result"
    }
   ],
   "source": [
    "dt1[\"2022-01-06\"]"
   ]
  },
  {
   "cell_type": "markdown",
   "id": "b83acf83",
   "metadata": {},
   "source": [
    "### working with .csv files\n",
    "    - reading .csv file with \"read_csv()\" method\n",
    "    - syntax:- pd.read_csv(\"file location\")"
   ]
  },
  {
   "cell_type": "code",
   "execution_count": 95,
   "id": "261ae945",
   "metadata": {},
   "outputs": [
    {
     "data": {
      "text/html": [
       "<div>\n",
       "<style scoped>\n",
       "    .dataframe tbody tr th:only-of-type {\n",
       "        vertical-align: middle;\n",
       "    }\n",
       "\n",
       "    .dataframe tbody tr th {\n",
       "        vertical-align: top;\n",
       "    }\n",
       "\n",
       "    .dataframe thead th {\n",
       "        text-align: right;\n",
       "    }\n",
       "</style>\n",
       "<table border=\"1\" class=\"dataframe\">\n",
       "  <thead>\n",
       "    <tr style=\"text-align: right;\">\n",
       "      <th></th>\n",
       "      <th>Roll</th>\n",
       "      <th>Name</th>\n",
       "      <th>Maths</th>\n",
       "      <th>Discrete</th>\n",
       "      <th>OS</th>\n",
       "      <th>CO</th>\n",
       "      <th>DS</th>\n",
       "    </tr>\n",
       "  </thead>\n",
       "  <tbody>\n",
       "    <tr>\n",
       "      <th>0</th>\n",
       "      <td>A1</td>\n",
       "      <td>X</td>\n",
       "      <td>60</td>\n",
       "      <td>70</td>\n",
       "      <td>30</td>\n",
       "      <td>70.0</td>\n",
       "      <td>90.0</td>\n",
       "    </tr>\n",
       "    <tr>\n",
       "      <th>1</th>\n",
       "      <td>A2</td>\n",
       "      <td>Y</td>\n",
       "      <td>90</td>\n",
       "      <td>45</td>\n",
       "      <td>67</td>\n",
       "      <td>73.0</td>\n",
       "      <td>50.0</td>\n",
       "    </tr>\n",
       "    <tr>\n",
       "      <th>2</th>\n",
       "      <td>A1</td>\n",
       "      <td>G</td>\n",
       "      <td>60</td>\n",
       "      <td>70</td>\n",
       "      <td>30</td>\n",
       "      <td>NaN</td>\n",
       "      <td>90.0</td>\n",
       "    </tr>\n",
       "    <tr>\n",
       "      <th>3</th>\n",
       "      <td>A2</td>\n",
       "      <td>H</td>\n",
       "      <td>40</td>\n",
       "      <td>60</td>\n",
       "      <td>73</td>\n",
       "      <td>50.0</td>\n",
       "      <td>NaN</td>\n",
       "    </tr>\n",
       "    <tr>\n",
       "      <th>4</th>\n",
       "      <td>B1</td>\n",
       "      <td>I</td>\n",
       "      <td>50</td>\n",
       "      <td>70</td>\n",
       "      <td>90</td>\n",
       "      <td>90.0</td>\n",
       "      <td>NaN</td>\n",
       "    </tr>\n",
       "    <tr>\n",
       "      <th>5</th>\n",
       "      <td>B2</td>\n",
       "      <td>J</td>\n",
       "      <td>63</td>\n",
       "      <td>45</td>\n",
       "      <td>67</td>\n",
       "      <td>56.0</td>\n",
       "      <td>50.0</td>\n",
       "    </tr>\n",
       "    <tr>\n",
       "      <th>6</th>\n",
       "      <td>C1</td>\n",
       "      <td>K</td>\n",
       "      <td>67</td>\n",
       "      <td>70</td>\n",
       "      <td>30</td>\n",
       "      <td>75.0</td>\n",
       "      <td>40.0</td>\n",
       "    </tr>\n",
       "    <tr>\n",
       "      <th>7</th>\n",
       "      <td>C2</td>\n",
       "      <td>L</td>\n",
       "      <td>91</td>\n",
       "      <td>45</td>\n",
       "      <td>67</td>\n",
       "      <td>72.0</td>\n",
       "      <td>50.0</td>\n",
       "    </tr>\n",
       "    <tr>\n",
       "      <th>8</th>\n",
       "      <td>D1</td>\n",
       "      <td>M</td>\n",
       "      <td>40</td>\n",
       "      <td>70</td>\n",
       "      <td>50</td>\n",
       "      <td>NaN</td>\n",
       "      <td>90.0</td>\n",
       "    </tr>\n",
       "    <tr>\n",
       "      <th>9</th>\n",
       "      <td>D2</td>\n",
       "      <td>N</td>\n",
       "      <td>5</td>\n",
       "      <td>67</td>\n",
       "      <td>65</td>\n",
       "      <td>50.0</td>\n",
       "      <td>NaN</td>\n",
       "    </tr>\n",
       "    <tr>\n",
       "      <th>10</th>\n",
       "      <td>E1</td>\n",
       "      <td>X</td>\n",
       "      <td>50</td>\n",
       "      <td>70</td>\n",
       "      <td>30</td>\n",
       "      <td>80.0</td>\n",
       "      <td>90.0</td>\n",
       "    </tr>\n",
       "    <tr>\n",
       "      <th>11</th>\n",
       "      <td>E2</td>\n",
       "      <td>Y</td>\n",
       "      <td>60</td>\n",
       "      <td>45</td>\n",
       "      <td>77</td>\n",
       "      <td>73.0</td>\n",
       "      <td>40.0</td>\n",
       "    </tr>\n",
       "  </tbody>\n",
       "</table>\n",
       "</div>"
      ],
      "text/plain": [
       "   Roll Name  Maths  Discrete  OS    CO    DS\n",
       "0    A1    X     60        70  30  70.0  90.0\n",
       "1    A2    Y     90        45  67  73.0  50.0\n",
       "2    A1    G     60        70  30   NaN  90.0\n",
       "3    A2    H     40        60  73  50.0   NaN\n",
       "4    B1    I     50        70  90  90.0   NaN\n",
       "5    B2    J     63        45  67  56.0  50.0\n",
       "6    C1    K     67        70  30  75.0  40.0\n",
       "7    C2    L     91        45  67  72.0  50.0\n",
       "8    D1    M     40        70  50   NaN  90.0\n",
       "9    D2    N      5        67  65  50.0   NaN\n",
       "10   E1    X     50        70  30  80.0  90.0\n",
       "11   E2    Y     60        45  77  73.0  40.0"
      ]
     },
     "execution_count": 95,
     "metadata": {},
     "output_type": "execute_result"
    }
   ],
   "source": [
    "# reading data\n",
    "data=pd.read_csv(\"marks.csv\")\n",
    "data"
   ]
  },
  {
   "cell_type": "code",
   "execution_count": 96,
   "id": "0c5f3f97",
   "metadata": {},
   "outputs": [
    {
     "data": {
      "text/html": [
       "<div>\n",
       "<style scoped>\n",
       "    .dataframe tbody tr th:only-of-type {\n",
       "        vertical-align: middle;\n",
       "    }\n",
       "\n",
       "    .dataframe tbody tr th {\n",
       "        vertical-align: top;\n",
       "    }\n",
       "\n",
       "    .dataframe thead th {\n",
       "        text-align: right;\n",
       "    }\n",
       "</style>\n",
       "<table border=\"1\" class=\"dataframe\">\n",
       "  <thead>\n",
       "    <tr style=\"text-align: right;\">\n",
       "      <th></th>\n",
       "      <th>Roll</th>\n",
       "      <th>Name</th>\n",
       "      <th>Maths</th>\n",
       "      <th>Discrete</th>\n",
       "      <th>OS</th>\n",
       "      <th>CO</th>\n",
       "      <th>DS</th>\n",
       "    </tr>\n",
       "  </thead>\n",
       "  <tbody>\n",
       "    <tr>\n",
       "      <th>8</th>\n",
       "      <td>D1</td>\n",
       "      <td>M</td>\n",
       "      <td>40</td>\n",
       "      <td>70</td>\n",
       "      <td>50</td>\n",
       "      <td>NaN</td>\n",
       "      <td>90.0</td>\n",
       "    </tr>\n",
       "  </tbody>\n",
       "</table>\n",
       "</div>"
      ],
      "text/plain": [
       "  Roll Name  Maths  Discrete  OS  CO    DS\n",
       "8   D1    M     40        70  50 NaN  90.0"
      ]
     },
     "execution_count": 96,
     "metadata": {},
     "output_type": "execute_result"
    }
   ],
   "source": [
    "#sample\n",
    "data.sample()"
   ]
  },
  {
   "cell_type": "code",
   "execution_count": 97,
   "id": "39d1305a",
   "metadata": {},
   "outputs": [
    {
     "data": {
      "text/html": [
       "<div>\n",
       "<style scoped>\n",
       "    .dataframe tbody tr th:only-of-type {\n",
       "        vertical-align: middle;\n",
       "    }\n",
       "\n",
       "    .dataframe tbody tr th {\n",
       "        vertical-align: top;\n",
       "    }\n",
       "\n",
       "    .dataframe thead th {\n",
       "        text-align: right;\n",
       "    }\n",
       "</style>\n",
       "<table border=\"1\" class=\"dataframe\">\n",
       "  <thead>\n",
       "    <tr style=\"text-align: right;\">\n",
       "      <th></th>\n",
       "      <th>Roll</th>\n",
       "      <th>Name</th>\n",
       "      <th>Maths</th>\n",
       "      <th>Discrete</th>\n",
       "      <th>OS</th>\n",
       "      <th>CO</th>\n",
       "      <th>DS</th>\n",
       "    </tr>\n",
       "  </thead>\n",
       "  <tbody>\n",
       "    <tr>\n",
       "      <th>8</th>\n",
       "      <td>D1</td>\n",
       "      <td>M</td>\n",
       "      <td>40</td>\n",
       "      <td>70</td>\n",
       "      <td>50</td>\n",
       "      <td>NaN</td>\n",
       "      <td>90.0</td>\n",
       "    </tr>\n",
       "    <tr>\n",
       "      <th>4</th>\n",
       "      <td>B1</td>\n",
       "      <td>I</td>\n",
       "      <td>50</td>\n",
       "      <td>70</td>\n",
       "      <td>90</td>\n",
       "      <td>90.0</td>\n",
       "      <td>NaN</td>\n",
       "    </tr>\n",
       "  </tbody>\n",
       "</table>\n",
       "</div>"
      ],
      "text/plain": [
       "  Roll Name  Maths  Discrete  OS    CO    DS\n",
       "8   D1    M     40        70  50   NaN  90.0\n",
       "4   B1    I     50        70  90  90.0   NaN"
      ]
     },
     "execution_count": 97,
     "metadata": {},
     "output_type": "execute_result"
    }
   ],
   "source": [
    "#sample\n",
    "data.sample(2)"
   ]
  },
  {
   "cell_type": "code",
   "execution_count": 98,
   "id": "b5ae02bb",
   "metadata": {},
   "outputs": [
    {
     "data": {
      "text/html": [
       "<div>\n",
       "<style scoped>\n",
       "    .dataframe tbody tr th:only-of-type {\n",
       "        vertical-align: middle;\n",
       "    }\n",
       "\n",
       "    .dataframe tbody tr th {\n",
       "        vertical-align: top;\n",
       "    }\n",
       "\n",
       "    .dataframe thead th {\n",
       "        text-align: right;\n",
       "    }\n",
       "</style>\n",
       "<table border=\"1\" class=\"dataframe\">\n",
       "  <thead>\n",
       "    <tr style=\"text-align: right;\">\n",
       "      <th></th>\n",
       "      <th>Roll</th>\n",
       "      <th>Name</th>\n",
       "      <th>Maths</th>\n",
       "      <th>Discrete</th>\n",
       "      <th>OS</th>\n",
       "      <th>CO</th>\n",
       "      <th>DS</th>\n",
       "    </tr>\n",
       "  </thead>\n",
       "  <tbody>\n",
       "    <tr>\n",
       "      <th>0</th>\n",
       "      <td>A1</td>\n",
       "      <td>X</td>\n",
       "      <td>60</td>\n",
       "      <td>70</td>\n",
       "      <td>30</td>\n",
       "      <td>70.0</td>\n",
       "      <td>90.0</td>\n",
       "    </tr>\n",
       "    <tr>\n",
       "      <th>1</th>\n",
       "      <td>A2</td>\n",
       "      <td>Y</td>\n",
       "      <td>90</td>\n",
       "      <td>45</td>\n",
       "      <td>67</td>\n",
       "      <td>73.0</td>\n",
       "      <td>50.0</td>\n",
       "    </tr>\n",
       "  </tbody>\n",
       "</table>\n",
       "</div>"
      ],
      "text/plain": [
       "  Roll Name  Maths  Discrete  OS    CO    DS\n",
       "0   A1    X     60        70  30  70.0  90.0\n",
       "1   A2    Y     90        45  67  73.0  50.0"
      ]
     },
     "execution_count": 98,
     "metadata": {},
     "output_type": "execute_result"
    }
   ],
   "source": [
    "data.head(2)     "
   ]
  },
  {
   "cell_type": "code",
   "execution_count": 99,
   "id": "45cc8256",
   "metadata": {},
   "outputs": [
    {
     "data": {
      "text/html": [
       "<div>\n",
       "<style scoped>\n",
       "    .dataframe tbody tr th:only-of-type {\n",
       "        vertical-align: middle;\n",
       "    }\n",
       "\n",
       "    .dataframe tbody tr th {\n",
       "        vertical-align: top;\n",
       "    }\n",
       "\n",
       "    .dataframe thead th {\n",
       "        text-align: right;\n",
       "    }\n",
       "</style>\n",
       "<table border=\"1\" class=\"dataframe\">\n",
       "  <thead>\n",
       "    <tr style=\"text-align: right;\">\n",
       "      <th></th>\n",
       "      <th>Roll</th>\n",
       "      <th>Name</th>\n",
       "      <th>Maths</th>\n",
       "      <th>Discrete</th>\n",
       "      <th>OS</th>\n",
       "      <th>CO</th>\n",
       "      <th>DS</th>\n",
       "    </tr>\n",
       "  </thead>\n",
       "  <tbody>\n",
       "    <tr>\n",
       "      <th>9</th>\n",
       "      <td>D2</td>\n",
       "      <td>N</td>\n",
       "      <td>5</td>\n",
       "      <td>67</td>\n",
       "      <td>65</td>\n",
       "      <td>50.0</td>\n",
       "      <td>NaN</td>\n",
       "    </tr>\n",
       "    <tr>\n",
       "      <th>10</th>\n",
       "      <td>E1</td>\n",
       "      <td>X</td>\n",
       "      <td>50</td>\n",
       "      <td>70</td>\n",
       "      <td>30</td>\n",
       "      <td>80.0</td>\n",
       "      <td>90.0</td>\n",
       "    </tr>\n",
       "    <tr>\n",
       "      <th>11</th>\n",
       "      <td>E2</td>\n",
       "      <td>Y</td>\n",
       "      <td>60</td>\n",
       "      <td>45</td>\n",
       "      <td>77</td>\n",
       "      <td>73.0</td>\n",
       "      <td>40.0</td>\n",
       "    </tr>\n",
       "  </tbody>\n",
       "</table>\n",
       "</div>"
      ],
      "text/plain": [
       "   Roll Name  Maths  Discrete  OS    CO    DS\n",
       "9    D2    N      5        67  65  50.0   NaN\n",
       "10   E1    X     50        70  30  80.0  90.0\n",
       "11   E2    Y     60        45  77  73.0  40.0"
      ]
     },
     "execution_count": 99,
     "metadata": {},
     "output_type": "execute_result"
    }
   ],
   "source": [
    "data.tail(3)"
   ]
  },
  {
   "cell_type": "code",
   "execution_count": 101,
   "id": "6b5b3f9a",
   "metadata": {},
   "outputs": [
    {
     "data": {
      "text/html": [
       "<div>\n",
       "<style scoped>\n",
       "    .dataframe tbody tr th:only-of-type {\n",
       "        vertical-align: middle;\n",
       "    }\n",
       "\n",
       "    .dataframe tbody tr th {\n",
       "        vertical-align: top;\n",
       "    }\n",
       "\n",
       "    .dataframe thead th {\n",
       "        text-align: right;\n",
       "    }\n",
       "</style>\n",
       "<table border=\"1\" class=\"dataframe\">\n",
       "  <thead>\n",
       "    <tr style=\"text-align: right;\">\n",
       "      <th></th>\n",
       "      <th>Roll</th>\n",
       "      <th>Name</th>\n",
       "      <th>Maths</th>\n",
       "      <th>Discrete</th>\n",
       "      <th>OS</th>\n",
       "      <th>CO</th>\n",
       "      <th>DS</th>\n",
       "    </tr>\n",
       "  </thead>\n",
       "  <tbody>\n",
       "    <tr>\n",
       "      <th>0</th>\n",
       "      <td>A1</td>\n",
       "      <td>X</td>\n",
       "      <td>60</td>\n",
       "      <td>70</td>\n",
       "      <td>30</td>\n",
       "      <td>70.0</td>\n",
       "      <td>90.0</td>\n",
       "    </tr>\n",
       "  </tbody>\n",
       "</table>\n",
       "</div>"
      ],
      "text/plain": [
       "  Roll Name  Maths  Discrete  OS    CO    DS\n",
       "0   A1    X     60        70  30  70.0  90.0"
      ]
     },
     "execution_count": 101,
     "metadata": {},
     "output_type": "execute_result"
    }
   ],
   "source": [
    "data.head(1)"
   ]
  },
  {
   "cell_type": "code",
   "execution_count": 102,
   "id": "6160b690",
   "metadata": {},
   "outputs": [
    {
     "data": {
      "text/plain": [
       "0     A1\n",
       "1     A2\n",
       "2     A1\n",
       "3     A2\n",
       "4     B1\n",
       "5     B2\n",
       "6     C1\n",
       "7     C2\n",
       "8     D1\n",
       "9     D2\n",
       "10    E1\n",
       "11    E2\n",
       "Name: Roll, dtype: object"
      ]
     },
     "execution_count": 102,
     "metadata": {},
     "output_type": "execute_result"
    }
   ],
   "source": [
    "data[\"Roll\"]# accesing single col data"
   ]
  },
  {
   "cell_type": "code",
   "execution_count": 107,
   "id": "24a60a98",
   "metadata": {},
   "outputs": [
    {
     "data": {
      "text/html": [
       "<div>\n",
       "<style scoped>\n",
       "    .dataframe tbody tr th:only-of-type {\n",
       "        vertical-align: middle;\n",
       "    }\n",
       "\n",
       "    .dataframe tbody tr th {\n",
       "        vertical-align: top;\n",
       "    }\n",
       "\n",
       "    .dataframe thead th {\n",
       "        text-align: right;\n",
       "    }\n",
       "</style>\n",
       "<table border=\"1\" class=\"dataframe\">\n",
       "  <thead>\n",
       "    <tr style=\"text-align: right;\">\n",
       "      <th></th>\n",
       "      <th>Roll</th>\n",
       "      <th>Name</th>\n",
       "      <th>Maths</th>\n",
       "    </tr>\n",
       "  </thead>\n",
       "  <tbody>\n",
       "    <tr>\n",
       "      <th>0</th>\n",
       "      <td>A1</td>\n",
       "      <td>X</td>\n",
       "      <td>60</td>\n",
       "    </tr>\n",
       "    <tr>\n",
       "      <th>1</th>\n",
       "      <td>A2</td>\n",
       "      <td>Y</td>\n",
       "      <td>90</td>\n",
       "    </tr>\n",
       "    <tr>\n",
       "      <th>2</th>\n",
       "      <td>A1</td>\n",
       "      <td>G</td>\n",
       "      <td>60</td>\n",
       "    </tr>\n",
       "    <tr>\n",
       "      <th>3</th>\n",
       "      <td>A2</td>\n",
       "      <td>H</td>\n",
       "      <td>40</td>\n",
       "    </tr>\n",
       "    <tr>\n",
       "      <th>4</th>\n",
       "      <td>B1</td>\n",
       "      <td>I</td>\n",
       "      <td>50</td>\n",
       "    </tr>\n",
       "    <tr>\n",
       "      <th>5</th>\n",
       "      <td>B2</td>\n",
       "      <td>J</td>\n",
       "      <td>63</td>\n",
       "    </tr>\n",
       "    <tr>\n",
       "      <th>6</th>\n",
       "      <td>C1</td>\n",
       "      <td>K</td>\n",
       "      <td>67</td>\n",
       "    </tr>\n",
       "    <tr>\n",
       "      <th>7</th>\n",
       "      <td>C2</td>\n",
       "      <td>L</td>\n",
       "      <td>91</td>\n",
       "    </tr>\n",
       "    <tr>\n",
       "      <th>8</th>\n",
       "      <td>D1</td>\n",
       "      <td>M</td>\n",
       "      <td>40</td>\n",
       "    </tr>\n",
       "    <tr>\n",
       "      <th>9</th>\n",
       "      <td>D2</td>\n",
       "      <td>N</td>\n",
       "      <td>5</td>\n",
       "    </tr>\n",
       "    <tr>\n",
       "      <th>10</th>\n",
       "      <td>E1</td>\n",
       "      <td>X</td>\n",
       "      <td>50</td>\n",
       "    </tr>\n",
       "    <tr>\n",
       "      <th>11</th>\n",
       "      <td>E2</td>\n",
       "      <td>Y</td>\n",
       "      <td>60</td>\n",
       "    </tr>\n",
       "  </tbody>\n",
       "</table>\n",
       "</div>"
      ],
      "text/plain": [
       "   Roll Name  Maths\n",
       "0    A1    X     60\n",
       "1    A2    Y     90\n",
       "2    A1    G     60\n",
       "3    A2    H     40\n",
       "4    B1    I     50\n",
       "5    B2    J     63\n",
       "6    C1    K     67\n",
       "7    C2    L     91\n",
       "8    D1    M     40\n",
       "9    D2    N      5\n",
       "10   E1    X     50\n",
       "11   E2    Y     60"
      ]
     },
     "execution_count": 107,
     "metadata": {},
     "output_type": "execute_result"
    }
   ],
   "source": [
    "data[[\"Roll\",\"Name\",\"Maths\"]]\n",
    "# accesing multiple col values"
   ]
  },
  {
   "cell_type": "code",
   "execution_count": 109,
   "id": "87aef40e",
   "metadata": {},
   "outputs": [
    {
     "data": {
      "text/plain": [
       "Index(['Roll', 'Name', 'Maths', 'Discrete', 'OS', 'CO', 'DS'], dtype='object')"
      ]
     },
     "execution_count": 109,
     "metadata": {},
     "output_type": "execute_result"
    }
   ],
   "source": [
    "data.columns"
   ]
  },
  {
   "cell_type": "code",
   "execution_count": 110,
   "id": "b6e2143c",
   "metadata": {},
   "outputs": [
    {
     "data": {
      "text/plain": [
       "RangeIndex(start=0, stop=12, step=1)"
      ]
     },
     "execution_count": 110,
     "metadata": {},
     "output_type": "execute_result"
    }
   ],
   "source": [
    "data.index"
   ]
  },
  {
   "cell_type": "code",
   "execution_count": 113,
   "id": "78f05b06",
   "metadata": {},
   "outputs": [
    {
     "data": {
      "text/plain": [
       "Roll         object\n",
       "Name         object\n",
       "Maths         int64\n",
       "Discrete      int64\n",
       "OS            int64\n",
       "CO          float64\n",
       "DS          float64\n",
       "dtype: object"
      ]
     },
     "execution_count": 113,
     "metadata": {},
     "output_type": "execute_result"
    }
   ],
   "source": [
    "data.dtypes"
   ]
  },
  {
   "cell_type": "code",
   "execution_count": 118,
   "id": "0a21a840",
   "metadata": {},
   "outputs": [
    {
     "data": {
      "text/plain": [
       "<bound method DataFrame.info of    Roll Name  Maths  Discrete  OS    CO    DS\n",
       "0    A1    X     60        70  30  70.0  90.0\n",
       "1    A2    Y     90        45  67  73.0  50.0\n",
       "2    A1    G     60        70  30   NaN  90.0\n",
       "3    A2    H     40        60  73  50.0   NaN\n",
       "4    B1    I     50        70  90  90.0   NaN\n",
       "5    B2    J     63        45  67  56.0  50.0\n",
       "6    C1    K     67        70  30  75.0  40.0\n",
       "7    C2    L     91        45  67  72.0  50.0\n",
       "8    D1    M     40        70  50   NaN  90.0\n",
       "9    D2    N      5        67  65  50.0   NaN\n",
       "10   E1    X     50        70  30  80.0  90.0\n",
       "11   E2    Y     60        45  77  73.0  40.0>"
      ]
     },
     "execution_count": 118,
     "metadata": {},
     "output_type": "execute_result"
    }
   ],
   "source": [
    "data.info #text info liikei printing"
   ]
  },
  {
   "cell_type": "code",
   "execution_count": 116,
   "id": "71d7483e",
   "metadata": {},
   "outputs": [
    {
     "data": {
      "text/html": [
       "<div>\n",
       "<style scoped>\n",
       "    .dataframe tbody tr th:only-of-type {\n",
       "        vertical-align: middle;\n",
       "    }\n",
       "\n",
       "    .dataframe tbody tr th {\n",
       "        vertical-align: top;\n",
       "    }\n",
       "\n",
       "    .dataframe thead th {\n",
       "        text-align: right;\n",
       "    }\n",
       "</style>\n",
       "<table border=\"1\" class=\"dataframe\">\n",
       "  <thead>\n",
       "    <tr style=\"text-align: right;\">\n",
       "      <th></th>\n",
       "      <th>Maths</th>\n",
       "      <th>Discrete</th>\n",
       "      <th>OS</th>\n",
       "      <th>CO</th>\n",
       "      <th>DS</th>\n",
       "    </tr>\n",
       "  </thead>\n",
       "  <tbody>\n",
       "    <tr>\n",
       "      <th>count</th>\n",
       "      <td>12.000000</td>\n",
       "      <td>12.000000</td>\n",
       "      <td>12.000000</td>\n",
       "      <td>10.000000</td>\n",
       "      <td>9.000000</td>\n",
       "    </tr>\n",
       "    <tr>\n",
       "      <th>mean</th>\n",
       "      <td>56.333333</td>\n",
       "      <td>60.583333</td>\n",
       "      <td>56.333333</td>\n",
       "      <td>68.900000</td>\n",
       "      <td>65.555556</td>\n",
       "    </tr>\n",
       "    <tr>\n",
       "      <th>std</th>\n",
       "      <td>22.928083</td>\n",
       "      <td>11.851032</td>\n",
       "      <td>21.465970</td>\n",
       "      <td>13.042239</td>\n",
       "      <td>23.511227</td>\n",
       "    </tr>\n",
       "    <tr>\n",
       "      <th>min</th>\n",
       "      <td>5.000000</td>\n",
       "      <td>45.000000</td>\n",
       "      <td>30.000000</td>\n",
       "      <td>50.000000</td>\n",
       "      <td>40.000000</td>\n",
       "    </tr>\n",
       "    <tr>\n",
       "      <th>25%</th>\n",
       "      <td>47.500000</td>\n",
       "      <td>45.000000</td>\n",
       "      <td>30.000000</td>\n",
       "      <td>59.500000</td>\n",
       "      <td>50.000000</td>\n",
       "    </tr>\n",
       "    <tr>\n",
       "      <th>50%</th>\n",
       "      <td>60.000000</td>\n",
       "      <td>68.500000</td>\n",
       "      <td>66.000000</td>\n",
       "      <td>72.500000</td>\n",
       "      <td>50.000000</td>\n",
       "    </tr>\n",
       "    <tr>\n",
       "      <th>75%</th>\n",
       "      <td>64.000000</td>\n",
       "      <td>70.000000</td>\n",
       "      <td>68.500000</td>\n",
       "      <td>74.500000</td>\n",
       "      <td>90.000000</td>\n",
       "    </tr>\n",
       "    <tr>\n",
       "      <th>max</th>\n",
       "      <td>91.000000</td>\n",
       "      <td>70.000000</td>\n",
       "      <td>90.000000</td>\n",
       "      <td>90.000000</td>\n",
       "      <td>90.000000</td>\n",
       "    </tr>\n",
       "  </tbody>\n",
       "</table>\n",
       "</div>"
      ],
      "text/plain": [
       "           Maths   Discrete         OS         CO         DS\n",
       "count  12.000000  12.000000  12.000000  10.000000   9.000000\n",
       "mean   56.333333  60.583333  56.333333  68.900000  65.555556\n",
       "std    22.928083  11.851032  21.465970  13.042239  23.511227\n",
       "min     5.000000  45.000000  30.000000  50.000000  40.000000\n",
       "25%    47.500000  45.000000  30.000000  59.500000  50.000000\n",
       "50%    60.000000  68.500000  66.000000  72.500000  50.000000\n",
       "75%    64.000000  70.000000  68.500000  74.500000  90.000000\n",
       "max    91.000000  70.000000  90.000000  90.000000  90.000000"
      ]
     },
     "execution_count": 116,
     "metadata": {},
     "output_type": "execute_result"
    }
   ],
   "source": [
    "data.describe()"
   ]
  },
  {
   "cell_type": "code",
   "execution_count": 125,
   "id": "29b58306",
   "metadata": {},
   "outputs": [
    {
     "data": {
      "text/plain": [
       "60    3\n",
       "50    2\n",
       "40    2\n",
       "67    1\n",
       "5     1\n",
       "90    1\n",
       "91    1\n",
       "63    1\n",
       "Name: Maths, dtype: int64"
      ]
     },
     "execution_count": 125,
     "metadata": {},
     "output_type": "execute_result"
    }
   ],
   "source": [
    "data.Maths.value_counts() #to get frequency of values of a particular col"
   ]
  },
  {
   "cell_type": "code",
   "execution_count": 127,
   "id": "2235bd48",
   "metadata": {},
   "outputs": [
    {
     "data": {
      "text/plain": [
       "60    3\n",
       "50    2\n",
       "40    2\n",
       "67    1\n",
       "5     1\n",
       "90    1\n",
       "91    1\n",
       "63    1\n",
       "Name: Maths, dtype: int64"
      ]
     },
     "execution_count": 127,
     "metadata": {},
     "output_type": "execute_result"
    }
   ],
   "source": [
    "data[\"Maths\"].value_counts() #to get frequency of values of a particular col"
   ]
  },
  {
   "cell_type": "code",
   "execution_count": 128,
   "id": "71742f10",
   "metadata": {},
   "outputs": [
    {
     "data": {
      "text/plain": [
       "(12, 7)"
      ]
     },
     "execution_count": 128,
     "metadata": {},
     "output_type": "execute_result"
    }
   ],
   "source": [
    "data.shape"
   ]
  },
  {
   "cell_type": "code",
   "execution_count": 129,
   "id": "8fc7f719",
   "metadata": {},
   "outputs": [
    {
     "data": {
      "text/html": [
       "<div>\n",
       "<style scoped>\n",
       "    .dataframe tbody tr th:only-of-type {\n",
       "        vertical-align: middle;\n",
       "    }\n",
       "\n",
       "    .dataframe tbody tr th {\n",
       "        vertical-align: top;\n",
       "    }\n",
       "\n",
       "    .dataframe thead th {\n",
       "        text-align: right;\n",
       "    }\n",
       "</style>\n",
       "<table border=\"1\" class=\"dataframe\">\n",
       "  <thead>\n",
       "    <tr style=\"text-align: right;\">\n",
       "      <th></th>\n",
       "      <th>Roll</th>\n",
       "      <th>Name</th>\n",
       "      <th>Maths</th>\n",
       "      <th>Discrete</th>\n",
       "      <th>OS</th>\n",
       "      <th>CO</th>\n",
       "      <th>DS</th>\n",
       "    </tr>\n",
       "  </thead>\n",
       "  <tbody>\n",
       "    <tr>\n",
       "      <th>0</th>\n",
       "      <td>A1</td>\n",
       "      <td>X</td>\n",
       "      <td>60</td>\n",
       "      <td>70</td>\n",
       "      <td>30</td>\n",
       "      <td>70.0</td>\n",
       "      <td>90.0</td>\n",
       "    </tr>\n",
       "    <tr>\n",
       "      <th>2</th>\n",
       "      <td>A1</td>\n",
       "      <td>G</td>\n",
       "      <td>60</td>\n",
       "      <td>70</td>\n",
       "      <td>30</td>\n",
       "      <td>NaN</td>\n",
       "      <td>90.0</td>\n",
       "    </tr>\n",
       "    <tr>\n",
       "      <th>1</th>\n",
       "      <td>A2</td>\n",
       "      <td>Y</td>\n",
       "      <td>90</td>\n",
       "      <td>45</td>\n",
       "      <td>67</td>\n",
       "      <td>73.0</td>\n",
       "      <td>50.0</td>\n",
       "    </tr>\n",
       "    <tr>\n",
       "      <th>3</th>\n",
       "      <td>A2</td>\n",
       "      <td>H</td>\n",
       "      <td>40</td>\n",
       "      <td>60</td>\n",
       "      <td>73</td>\n",
       "      <td>50.0</td>\n",
       "      <td>NaN</td>\n",
       "    </tr>\n",
       "    <tr>\n",
       "      <th>4</th>\n",
       "      <td>B1</td>\n",
       "      <td>I</td>\n",
       "      <td>50</td>\n",
       "      <td>70</td>\n",
       "      <td>90</td>\n",
       "      <td>90.0</td>\n",
       "      <td>NaN</td>\n",
       "    </tr>\n",
       "    <tr>\n",
       "      <th>5</th>\n",
       "      <td>B2</td>\n",
       "      <td>J</td>\n",
       "      <td>63</td>\n",
       "      <td>45</td>\n",
       "      <td>67</td>\n",
       "      <td>56.0</td>\n",
       "      <td>50.0</td>\n",
       "    </tr>\n",
       "    <tr>\n",
       "      <th>6</th>\n",
       "      <td>C1</td>\n",
       "      <td>K</td>\n",
       "      <td>67</td>\n",
       "      <td>70</td>\n",
       "      <td>30</td>\n",
       "      <td>75.0</td>\n",
       "      <td>40.0</td>\n",
       "    </tr>\n",
       "    <tr>\n",
       "      <th>7</th>\n",
       "      <td>C2</td>\n",
       "      <td>L</td>\n",
       "      <td>91</td>\n",
       "      <td>45</td>\n",
       "      <td>67</td>\n",
       "      <td>72.0</td>\n",
       "      <td>50.0</td>\n",
       "    </tr>\n",
       "    <tr>\n",
       "      <th>8</th>\n",
       "      <td>D1</td>\n",
       "      <td>M</td>\n",
       "      <td>40</td>\n",
       "      <td>70</td>\n",
       "      <td>50</td>\n",
       "      <td>NaN</td>\n",
       "      <td>90.0</td>\n",
       "    </tr>\n",
       "    <tr>\n",
       "      <th>9</th>\n",
       "      <td>D2</td>\n",
       "      <td>N</td>\n",
       "      <td>5</td>\n",
       "      <td>67</td>\n",
       "      <td>65</td>\n",
       "      <td>50.0</td>\n",
       "      <td>NaN</td>\n",
       "    </tr>\n",
       "    <tr>\n",
       "      <th>10</th>\n",
       "      <td>E1</td>\n",
       "      <td>X</td>\n",
       "      <td>50</td>\n",
       "      <td>70</td>\n",
       "      <td>30</td>\n",
       "      <td>80.0</td>\n",
       "      <td>90.0</td>\n",
       "    </tr>\n",
       "    <tr>\n",
       "      <th>11</th>\n",
       "      <td>E2</td>\n",
       "      <td>Y</td>\n",
       "      <td>60</td>\n",
       "      <td>45</td>\n",
       "      <td>77</td>\n",
       "      <td>73.0</td>\n",
       "      <td>40.0</td>\n",
       "    </tr>\n",
       "  </tbody>\n",
       "</table>\n",
       "</div>"
      ],
      "text/plain": [
       "   Roll Name  Maths  Discrete  OS    CO    DS\n",
       "0    A1    X     60        70  30  70.0  90.0\n",
       "2    A1    G     60        70  30   NaN  90.0\n",
       "1    A2    Y     90        45  67  73.0  50.0\n",
       "3    A2    H     40        60  73  50.0   NaN\n",
       "4    B1    I     50        70  90  90.0   NaN\n",
       "5    B2    J     63        45  67  56.0  50.0\n",
       "6    C1    K     67        70  30  75.0  40.0\n",
       "7    C2    L     91        45  67  72.0  50.0\n",
       "8    D1    M     40        70  50   NaN  90.0\n",
       "9    D2    N      5        67  65  50.0   NaN\n",
       "10   E1    X     50        70  30  80.0  90.0\n",
       "11   E2    Y     60        45  77  73.0  40.0"
      ]
     },
     "execution_count": 129,
     "metadata": {},
     "output_type": "execute_result"
    }
   ],
   "source": [
    "data.sort_values(\"Roll\")"
   ]
  },
  {
   "cell_type": "code",
   "execution_count": 130,
   "id": "838a1002",
   "metadata": {},
   "outputs": [
    {
     "data": {
      "text/html": [
       "<div>\n",
       "<style scoped>\n",
       "    .dataframe tbody tr th:only-of-type {\n",
       "        vertical-align: middle;\n",
       "    }\n",
       "\n",
       "    .dataframe tbody tr th {\n",
       "        vertical-align: top;\n",
       "    }\n",
       "\n",
       "    .dataframe thead th {\n",
       "        text-align: right;\n",
       "    }\n",
       "</style>\n",
       "<table border=\"1\" class=\"dataframe\">\n",
       "  <thead>\n",
       "    <tr style=\"text-align: right;\">\n",
       "      <th></th>\n",
       "      <th>Roll</th>\n",
       "      <th>Name</th>\n",
       "      <th>Maths</th>\n",
       "      <th>Discrete</th>\n",
       "      <th>OS</th>\n",
       "      <th>CO</th>\n",
       "      <th>DS</th>\n",
       "    </tr>\n",
       "  </thead>\n",
       "  <tbody>\n",
       "    <tr>\n",
       "      <th>2</th>\n",
       "      <td>A1</td>\n",
       "      <td>G</td>\n",
       "      <td>60</td>\n",
       "      <td>70</td>\n",
       "      <td>30</td>\n",
       "      <td>NaN</td>\n",
       "      <td>90.0</td>\n",
       "    </tr>\n",
       "    <tr>\n",
       "      <th>3</th>\n",
       "      <td>A2</td>\n",
       "      <td>H</td>\n",
       "      <td>40</td>\n",
       "      <td>60</td>\n",
       "      <td>73</td>\n",
       "      <td>50.0</td>\n",
       "      <td>NaN</td>\n",
       "    </tr>\n",
       "    <tr>\n",
       "      <th>4</th>\n",
       "      <td>B1</td>\n",
       "      <td>I</td>\n",
       "      <td>50</td>\n",
       "      <td>70</td>\n",
       "      <td>90</td>\n",
       "      <td>90.0</td>\n",
       "      <td>NaN</td>\n",
       "    </tr>\n",
       "    <tr>\n",
       "      <th>5</th>\n",
       "      <td>B2</td>\n",
       "      <td>J</td>\n",
       "      <td>63</td>\n",
       "      <td>45</td>\n",
       "      <td>67</td>\n",
       "      <td>56.0</td>\n",
       "      <td>50.0</td>\n",
       "    </tr>\n",
       "    <tr>\n",
       "      <th>6</th>\n",
       "      <td>C1</td>\n",
       "      <td>K</td>\n",
       "      <td>67</td>\n",
       "      <td>70</td>\n",
       "      <td>30</td>\n",
       "      <td>75.0</td>\n",
       "      <td>40.0</td>\n",
       "    </tr>\n",
       "    <tr>\n",
       "      <th>7</th>\n",
       "      <td>C2</td>\n",
       "      <td>L</td>\n",
       "      <td>91</td>\n",
       "      <td>45</td>\n",
       "      <td>67</td>\n",
       "      <td>72.0</td>\n",
       "      <td>50.0</td>\n",
       "    </tr>\n",
       "    <tr>\n",
       "      <th>8</th>\n",
       "      <td>D1</td>\n",
       "      <td>M</td>\n",
       "      <td>40</td>\n",
       "      <td>70</td>\n",
       "      <td>50</td>\n",
       "      <td>NaN</td>\n",
       "      <td>90.0</td>\n",
       "    </tr>\n",
       "    <tr>\n",
       "      <th>9</th>\n",
       "      <td>D2</td>\n",
       "      <td>N</td>\n",
       "      <td>5</td>\n",
       "      <td>67</td>\n",
       "      <td>65</td>\n",
       "      <td>50.0</td>\n",
       "      <td>NaN</td>\n",
       "    </tr>\n",
       "    <tr>\n",
       "      <th>0</th>\n",
       "      <td>A1</td>\n",
       "      <td>X</td>\n",
       "      <td>60</td>\n",
       "      <td>70</td>\n",
       "      <td>30</td>\n",
       "      <td>70.0</td>\n",
       "      <td>90.0</td>\n",
       "    </tr>\n",
       "    <tr>\n",
       "      <th>10</th>\n",
       "      <td>E1</td>\n",
       "      <td>X</td>\n",
       "      <td>50</td>\n",
       "      <td>70</td>\n",
       "      <td>30</td>\n",
       "      <td>80.0</td>\n",
       "      <td>90.0</td>\n",
       "    </tr>\n",
       "    <tr>\n",
       "      <th>1</th>\n",
       "      <td>A2</td>\n",
       "      <td>Y</td>\n",
       "      <td>90</td>\n",
       "      <td>45</td>\n",
       "      <td>67</td>\n",
       "      <td>73.0</td>\n",
       "      <td>50.0</td>\n",
       "    </tr>\n",
       "    <tr>\n",
       "      <th>11</th>\n",
       "      <td>E2</td>\n",
       "      <td>Y</td>\n",
       "      <td>60</td>\n",
       "      <td>45</td>\n",
       "      <td>77</td>\n",
       "      <td>73.0</td>\n",
       "      <td>40.0</td>\n",
       "    </tr>\n",
       "  </tbody>\n",
       "</table>\n",
       "</div>"
      ],
      "text/plain": [
       "   Roll Name  Maths  Discrete  OS    CO    DS\n",
       "2    A1    G     60        70  30   NaN  90.0\n",
       "3    A2    H     40        60  73  50.0   NaN\n",
       "4    B1    I     50        70  90  90.0   NaN\n",
       "5    B2    J     63        45  67  56.0  50.0\n",
       "6    C1    K     67        70  30  75.0  40.0\n",
       "7    C2    L     91        45  67  72.0  50.0\n",
       "8    D1    M     40        70  50   NaN  90.0\n",
       "9    D2    N      5        67  65  50.0   NaN\n",
       "0    A1    X     60        70  30  70.0  90.0\n",
       "10   E1    X     50        70  30  80.0  90.0\n",
       "1    A2    Y     90        45  67  73.0  50.0\n",
       "11   E2    Y     60        45  77  73.0  40.0"
      ]
     },
     "execution_count": 130,
     "metadata": {},
     "output_type": "execute_result"
    }
   ],
   "source": [
    "data.sort_values(\"Name\")"
   ]
  },
  {
   "cell_type": "code",
   "execution_count": 131,
   "id": "70ff955e",
   "metadata": {},
   "outputs": [
    {
     "data": {
      "text/html": [
       "<div>\n",
       "<style scoped>\n",
       "    .dataframe tbody tr th:only-of-type {\n",
       "        vertical-align: middle;\n",
       "    }\n",
       "\n",
       "    .dataframe tbody tr th {\n",
       "        vertical-align: top;\n",
       "    }\n",
       "\n",
       "    .dataframe thead th {\n",
       "        text-align: right;\n",
       "    }\n",
       "</style>\n",
       "<table border=\"1\" class=\"dataframe\">\n",
       "  <thead>\n",
       "    <tr style=\"text-align: right;\">\n",
       "      <th></th>\n",
       "      <th>Roll</th>\n",
       "      <th>Name</th>\n",
       "      <th>Maths</th>\n",
       "      <th>Discrete</th>\n",
       "      <th>OS</th>\n",
       "      <th>CO</th>\n",
       "      <th>DS</th>\n",
       "    </tr>\n",
       "  </thead>\n",
       "  <tbody>\n",
       "    <tr>\n",
       "      <th>11</th>\n",
       "      <td>E2</td>\n",
       "      <td>Y</td>\n",
       "      <td>60</td>\n",
       "      <td>45</td>\n",
       "      <td>77</td>\n",
       "      <td>73.0</td>\n",
       "      <td>40.0</td>\n",
       "    </tr>\n",
       "    <tr>\n",
       "      <th>10</th>\n",
       "      <td>E1</td>\n",
       "      <td>X</td>\n",
       "      <td>50</td>\n",
       "      <td>70</td>\n",
       "      <td>30</td>\n",
       "      <td>80.0</td>\n",
       "      <td>90.0</td>\n",
       "    </tr>\n",
       "    <tr>\n",
       "      <th>9</th>\n",
       "      <td>D2</td>\n",
       "      <td>N</td>\n",
       "      <td>5</td>\n",
       "      <td>67</td>\n",
       "      <td>65</td>\n",
       "      <td>50.0</td>\n",
       "      <td>NaN</td>\n",
       "    </tr>\n",
       "    <tr>\n",
       "      <th>8</th>\n",
       "      <td>D1</td>\n",
       "      <td>M</td>\n",
       "      <td>40</td>\n",
       "      <td>70</td>\n",
       "      <td>50</td>\n",
       "      <td>NaN</td>\n",
       "      <td>90.0</td>\n",
       "    </tr>\n",
       "    <tr>\n",
       "      <th>7</th>\n",
       "      <td>C2</td>\n",
       "      <td>L</td>\n",
       "      <td>91</td>\n",
       "      <td>45</td>\n",
       "      <td>67</td>\n",
       "      <td>72.0</td>\n",
       "      <td>50.0</td>\n",
       "    </tr>\n",
       "    <tr>\n",
       "      <th>6</th>\n",
       "      <td>C1</td>\n",
       "      <td>K</td>\n",
       "      <td>67</td>\n",
       "      <td>70</td>\n",
       "      <td>30</td>\n",
       "      <td>75.0</td>\n",
       "      <td>40.0</td>\n",
       "    </tr>\n",
       "    <tr>\n",
       "      <th>5</th>\n",
       "      <td>B2</td>\n",
       "      <td>J</td>\n",
       "      <td>63</td>\n",
       "      <td>45</td>\n",
       "      <td>67</td>\n",
       "      <td>56.0</td>\n",
       "      <td>50.0</td>\n",
       "    </tr>\n",
       "    <tr>\n",
       "      <th>4</th>\n",
       "      <td>B1</td>\n",
       "      <td>I</td>\n",
       "      <td>50</td>\n",
       "      <td>70</td>\n",
       "      <td>90</td>\n",
       "      <td>90.0</td>\n",
       "      <td>NaN</td>\n",
       "    </tr>\n",
       "    <tr>\n",
       "      <th>1</th>\n",
       "      <td>A2</td>\n",
       "      <td>Y</td>\n",
       "      <td>90</td>\n",
       "      <td>45</td>\n",
       "      <td>67</td>\n",
       "      <td>73.0</td>\n",
       "      <td>50.0</td>\n",
       "    </tr>\n",
       "    <tr>\n",
       "      <th>3</th>\n",
       "      <td>A2</td>\n",
       "      <td>H</td>\n",
       "      <td>40</td>\n",
       "      <td>60</td>\n",
       "      <td>73</td>\n",
       "      <td>50.0</td>\n",
       "      <td>NaN</td>\n",
       "    </tr>\n",
       "    <tr>\n",
       "      <th>0</th>\n",
       "      <td>A1</td>\n",
       "      <td>X</td>\n",
       "      <td>60</td>\n",
       "      <td>70</td>\n",
       "      <td>30</td>\n",
       "      <td>70.0</td>\n",
       "      <td>90.0</td>\n",
       "    </tr>\n",
       "    <tr>\n",
       "      <th>2</th>\n",
       "      <td>A1</td>\n",
       "      <td>G</td>\n",
       "      <td>60</td>\n",
       "      <td>70</td>\n",
       "      <td>30</td>\n",
       "      <td>NaN</td>\n",
       "      <td>90.0</td>\n",
       "    </tr>\n",
       "  </tbody>\n",
       "</table>\n",
       "</div>"
      ],
      "text/plain": [
       "   Roll Name  Maths  Discrete  OS    CO    DS\n",
       "11   E2    Y     60        45  77  73.0  40.0\n",
       "10   E1    X     50        70  30  80.0  90.0\n",
       "9    D2    N      5        67  65  50.0   NaN\n",
       "8    D1    M     40        70  50   NaN  90.0\n",
       "7    C2    L     91        45  67  72.0  50.0\n",
       "6    C1    K     67        70  30  75.0  40.0\n",
       "5    B2    J     63        45  67  56.0  50.0\n",
       "4    B1    I     50        70  90  90.0   NaN\n",
       "1    A2    Y     90        45  67  73.0  50.0\n",
       "3    A2    H     40        60  73  50.0   NaN\n",
       "0    A1    X     60        70  30  70.0  90.0\n",
       "2    A1    G     60        70  30   NaN  90.0"
      ]
     },
     "execution_count": 131,
     "metadata": {},
     "output_type": "execute_result"
    }
   ],
   "source": [
    "data.sort_values(\"Roll\",ascending=False)"
   ]
  },
  {
   "cell_type": "code",
   "execution_count": 134,
   "id": "c53d8eb4",
   "metadata": {},
   "outputs": [
    {
     "data": {
      "text/html": [
       "<div>\n",
       "<style scoped>\n",
       "    .dataframe tbody tr th:only-of-type {\n",
       "        vertical-align: middle;\n",
       "    }\n",
       "\n",
       "    .dataframe tbody tr th {\n",
       "        vertical-align: top;\n",
       "    }\n",
       "\n",
       "    .dataframe thead th {\n",
       "        text-align: right;\n",
       "    }\n",
       "</style>\n",
       "<table border=\"1\" class=\"dataframe\">\n",
       "  <thead>\n",
       "    <tr style=\"text-align: right;\">\n",
       "      <th></th>\n",
       "      <th>Roll</th>\n",
       "      <th>Name</th>\n",
       "      <th>Maths</th>\n",
       "      <th>Discrete</th>\n",
       "      <th>OS</th>\n",
       "      <th>CO</th>\n",
       "      <th>DS</th>\n",
       "      <th>Total</th>\n",
       "    </tr>\n",
       "  </thead>\n",
       "  <tbody>\n",
       "    <tr>\n",
       "      <th>0</th>\n",
       "      <td>A1</td>\n",
       "      <td>X</td>\n",
       "      <td>60</td>\n",
       "      <td>70</td>\n",
       "      <td>30</td>\n",
       "      <td>70.0</td>\n",
       "      <td>90.0</td>\n",
       "      <td>100</td>\n",
       "    </tr>\n",
       "    <tr>\n",
       "      <th>1</th>\n",
       "      <td>A2</td>\n",
       "      <td>Y</td>\n",
       "      <td>90</td>\n",
       "      <td>45</td>\n",
       "      <td>67</td>\n",
       "      <td>73.0</td>\n",
       "      <td>50.0</td>\n",
       "      <td>100</td>\n",
       "    </tr>\n",
       "    <tr>\n",
       "      <th>2</th>\n",
       "      <td>A1</td>\n",
       "      <td>G</td>\n",
       "      <td>60</td>\n",
       "      <td>70</td>\n",
       "      <td>30</td>\n",
       "      <td>NaN</td>\n",
       "      <td>90.0</td>\n",
       "      <td>100</td>\n",
       "    </tr>\n",
       "    <tr>\n",
       "      <th>3</th>\n",
       "      <td>A2</td>\n",
       "      <td>H</td>\n",
       "      <td>40</td>\n",
       "      <td>60</td>\n",
       "      <td>73</td>\n",
       "      <td>50.0</td>\n",
       "      <td>NaN</td>\n",
       "      <td>100</td>\n",
       "    </tr>\n",
       "    <tr>\n",
       "      <th>4</th>\n",
       "      <td>B1</td>\n",
       "      <td>I</td>\n",
       "      <td>50</td>\n",
       "      <td>70</td>\n",
       "      <td>90</td>\n",
       "      <td>90.0</td>\n",
       "      <td>NaN</td>\n",
       "      <td>100</td>\n",
       "    </tr>\n",
       "    <tr>\n",
       "      <th>5</th>\n",
       "      <td>B2</td>\n",
       "      <td>J</td>\n",
       "      <td>63</td>\n",
       "      <td>45</td>\n",
       "      <td>67</td>\n",
       "      <td>56.0</td>\n",
       "      <td>50.0</td>\n",
       "      <td>100</td>\n",
       "    </tr>\n",
       "    <tr>\n",
       "      <th>6</th>\n",
       "      <td>C1</td>\n",
       "      <td>K</td>\n",
       "      <td>67</td>\n",
       "      <td>70</td>\n",
       "      <td>30</td>\n",
       "      <td>75.0</td>\n",
       "      <td>40.0</td>\n",
       "      <td>100</td>\n",
       "    </tr>\n",
       "    <tr>\n",
       "      <th>7</th>\n",
       "      <td>C2</td>\n",
       "      <td>L</td>\n",
       "      <td>91</td>\n",
       "      <td>45</td>\n",
       "      <td>67</td>\n",
       "      <td>72.0</td>\n",
       "      <td>50.0</td>\n",
       "      <td>100</td>\n",
       "    </tr>\n",
       "    <tr>\n",
       "      <th>8</th>\n",
       "      <td>D1</td>\n",
       "      <td>M</td>\n",
       "      <td>40</td>\n",
       "      <td>70</td>\n",
       "      <td>50</td>\n",
       "      <td>NaN</td>\n",
       "      <td>90.0</td>\n",
       "      <td>100</td>\n",
       "    </tr>\n",
       "    <tr>\n",
       "      <th>9</th>\n",
       "      <td>D2</td>\n",
       "      <td>N</td>\n",
       "      <td>5</td>\n",
       "      <td>67</td>\n",
       "      <td>65</td>\n",
       "      <td>50.0</td>\n",
       "      <td>NaN</td>\n",
       "      <td>100</td>\n",
       "    </tr>\n",
       "    <tr>\n",
       "      <th>10</th>\n",
       "      <td>E1</td>\n",
       "      <td>X</td>\n",
       "      <td>50</td>\n",
       "      <td>70</td>\n",
       "      <td>30</td>\n",
       "      <td>80.0</td>\n",
       "      <td>90.0</td>\n",
       "      <td>100</td>\n",
       "    </tr>\n",
       "    <tr>\n",
       "      <th>11</th>\n",
       "      <td>E2</td>\n",
       "      <td>Y</td>\n",
       "      <td>60</td>\n",
       "      <td>45</td>\n",
       "      <td>77</td>\n",
       "      <td>73.0</td>\n",
       "      <td>40.0</td>\n",
       "      <td>100</td>\n",
       "    </tr>\n",
       "  </tbody>\n",
       "</table>\n",
       "</div>"
      ],
      "text/plain": [
       "   Roll Name  Maths  Discrete  OS    CO    DS  Total\n",
       "0    A1    X     60        70  30  70.0  90.0    100\n",
       "1    A2    Y     90        45  67  73.0  50.0    100\n",
       "2    A1    G     60        70  30   NaN  90.0    100\n",
       "3    A2    H     40        60  73  50.0   NaN    100\n",
       "4    B1    I     50        70  90  90.0   NaN    100\n",
       "5    B2    J     63        45  67  56.0  50.0    100\n",
       "6    C1    K     67        70  30  75.0  40.0    100\n",
       "7    C2    L     91        45  67  72.0  50.0    100\n",
       "8    D1    M     40        70  50   NaN  90.0    100\n",
       "9    D2    N      5        67  65  50.0   NaN    100\n",
       "10   E1    X     50        70  30  80.0  90.0    100\n",
       "11   E2    Y     60        45  77  73.0  40.0    100"
      ]
     },
     "execution_count": 134,
     "metadata": {},
     "output_type": "execute_result"
    }
   ],
   "source": [
    "data[\"Total\"]=100# adding another col\n",
    "data"
   ]
  },
  {
   "cell_type": "code",
   "execution_count": 135,
   "id": "807dfd30",
   "metadata": {},
   "outputs": [
    {
     "data": {
      "text/plain": [
       "676"
      ]
     },
     "execution_count": 135,
     "metadata": {},
     "output_type": "execute_result"
    }
   ],
   "source": [
    "data.Maths.sum()"
   ]
  },
  {
   "cell_type": "code",
   "execution_count": 136,
   "id": "e041045e",
   "metadata": {},
   "outputs": [
    {
     "data": {
      "text/plain": [
       "676"
      ]
     },
     "execution_count": 136,
     "metadata": {},
     "output_type": "execute_result"
    }
   ],
   "source": [
    "data.OS.sum()"
   ]
  },
  {
   "cell_type": "code",
   "execution_count": 137,
   "id": "abcd033c",
   "metadata": {},
   "outputs": [
    {
     "data": {
      "text/plain": [
       "689.0"
      ]
     },
     "execution_count": 137,
     "metadata": {},
     "output_type": "execute_result"
    }
   ],
   "source": [
    "data.CO.sum()"
   ]
  },
  {
   "cell_type": "code",
   "execution_count": 138,
   "id": "cb873e48",
   "metadata": {},
   "outputs": [
    {
     "data": {
      "text/html": [
       "<div>\n",
       "<style scoped>\n",
       "    .dataframe tbody tr th:only-of-type {\n",
       "        vertical-align: middle;\n",
       "    }\n",
       "\n",
       "    .dataframe tbody tr th {\n",
       "        vertical-align: top;\n",
       "    }\n",
       "\n",
       "    .dataframe thead th {\n",
       "        text-align: right;\n",
       "    }\n",
       "</style>\n",
       "<table border=\"1\" class=\"dataframe\">\n",
       "  <thead>\n",
       "    <tr style=\"text-align: right;\">\n",
       "      <th></th>\n",
       "      <th>Roll</th>\n",
       "      <th>Name</th>\n",
       "      <th>Maths</th>\n",
       "      <th>Discrete</th>\n",
       "      <th>OS</th>\n",
       "      <th>CO</th>\n",
       "      <th>DS</th>\n",
       "      <th>Total</th>\n",
       "    </tr>\n",
       "  </thead>\n",
       "  <tbody>\n",
       "    <tr>\n",
       "      <th>0</th>\n",
       "      <td>False</td>\n",
       "      <td>False</td>\n",
       "      <td>False</td>\n",
       "      <td>False</td>\n",
       "      <td>False</td>\n",
       "      <td>False</td>\n",
       "      <td>False</td>\n",
       "      <td>False</td>\n",
       "    </tr>\n",
       "    <tr>\n",
       "      <th>1</th>\n",
       "      <td>False</td>\n",
       "      <td>False</td>\n",
       "      <td>False</td>\n",
       "      <td>False</td>\n",
       "      <td>False</td>\n",
       "      <td>False</td>\n",
       "      <td>False</td>\n",
       "      <td>False</td>\n",
       "    </tr>\n",
       "    <tr>\n",
       "      <th>2</th>\n",
       "      <td>False</td>\n",
       "      <td>False</td>\n",
       "      <td>False</td>\n",
       "      <td>False</td>\n",
       "      <td>False</td>\n",
       "      <td>True</td>\n",
       "      <td>False</td>\n",
       "      <td>False</td>\n",
       "    </tr>\n",
       "    <tr>\n",
       "      <th>3</th>\n",
       "      <td>False</td>\n",
       "      <td>False</td>\n",
       "      <td>False</td>\n",
       "      <td>False</td>\n",
       "      <td>False</td>\n",
       "      <td>False</td>\n",
       "      <td>True</td>\n",
       "      <td>False</td>\n",
       "    </tr>\n",
       "    <tr>\n",
       "      <th>4</th>\n",
       "      <td>False</td>\n",
       "      <td>False</td>\n",
       "      <td>False</td>\n",
       "      <td>False</td>\n",
       "      <td>False</td>\n",
       "      <td>False</td>\n",
       "      <td>True</td>\n",
       "      <td>False</td>\n",
       "    </tr>\n",
       "    <tr>\n",
       "      <th>5</th>\n",
       "      <td>False</td>\n",
       "      <td>False</td>\n",
       "      <td>False</td>\n",
       "      <td>False</td>\n",
       "      <td>False</td>\n",
       "      <td>False</td>\n",
       "      <td>False</td>\n",
       "      <td>False</td>\n",
       "    </tr>\n",
       "    <tr>\n",
       "      <th>6</th>\n",
       "      <td>False</td>\n",
       "      <td>False</td>\n",
       "      <td>False</td>\n",
       "      <td>False</td>\n",
       "      <td>False</td>\n",
       "      <td>False</td>\n",
       "      <td>False</td>\n",
       "      <td>False</td>\n",
       "    </tr>\n",
       "    <tr>\n",
       "      <th>7</th>\n",
       "      <td>False</td>\n",
       "      <td>False</td>\n",
       "      <td>False</td>\n",
       "      <td>False</td>\n",
       "      <td>False</td>\n",
       "      <td>False</td>\n",
       "      <td>False</td>\n",
       "      <td>False</td>\n",
       "    </tr>\n",
       "    <tr>\n",
       "      <th>8</th>\n",
       "      <td>False</td>\n",
       "      <td>False</td>\n",
       "      <td>False</td>\n",
       "      <td>False</td>\n",
       "      <td>False</td>\n",
       "      <td>True</td>\n",
       "      <td>False</td>\n",
       "      <td>False</td>\n",
       "    </tr>\n",
       "    <tr>\n",
       "      <th>9</th>\n",
       "      <td>False</td>\n",
       "      <td>False</td>\n",
       "      <td>False</td>\n",
       "      <td>False</td>\n",
       "      <td>False</td>\n",
       "      <td>False</td>\n",
       "      <td>True</td>\n",
       "      <td>False</td>\n",
       "    </tr>\n",
       "    <tr>\n",
       "      <th>10</th>\n",
       "      <td>False</td>\n",
       "      <td>False</td>\n",
       "      <td>False</td>\n",
       "      <td>False</td>\n",
       "      <td>False</td>\n",
       "      <td>False</td>\n",
       "      <td>False</td>\n",
       "      <td>False</td>\n",
       "    </tr>\n",
       "    <tr>\n",
       "      <th>11</th>\n",
       "      <td>False</td>\n",
       "      <td>False</td>\n",
       "      <td>False</td>\n",
       "      <td>False</td>\n",
       "      <td>False</td>\n",
       "      <td>False</td>\n",
       "      <td>False</td>\n",
       "      <td>False</td>\n",
       "    </tr>\n",
       "  </tbody>\n",
       "</table>\n",
       "</div>"
      ],
      "text/plain": [
       "     Roll   Name  Maths  Discrete     OS     CO     DS  Total\n",
       "0   False  False  False     False  False  False  False  False\n",
       "1   False  False  False     False  False  False  False  False\n",
       "2   False  False  False     False  False   True  False  False\n",
       "3   False  False  False     False  False  False   True  False\n",
       "4   False  False  False     False  False  False   True  False\n",
       "5   False  False  False     False  False  False  False  False\n",
       "6   False  False  False     False  False  False  False  False\n",
       "7   False  False  False     False  False  False  False  False\n",
       "8   False  False  False     False  False   True  False  False\n",
       "9   False  False  False     False  False  False   True  False\n",
       "10  False  False  False     False  False  False  False  False\n",
       "11  False  False  False     False  False  False  False  False"
      ]
     },
     "execution_count": 138,
     "metadata": {},
     "output_type": "execute_result"
    }
   ],
   "source": [
    "data.isnull()"
   ]
  },
  {
   "cell_type": "code",
   "execution_count": 139,
   "id": "57723124",
   "metadata": {},
   "outputs": [
    {
     "data": {
      "text/html": [
       "<div>\n",
       "<style scoped>\n",
       "    .dataframe tbody tr th:only-of-type {\n",
       "        vertical-align: middle;\n",
       "    }\n",
       "\n",
       "    .dataframe tbody tr th {\n",
       "        vertical-align: top;\n",
       "    }\n",
       "\n",
       "    .dataframe thead th {\n",
       "        text-align: right;\n",
       "    }\n",
       "</style>\n",
       "<table border=\"1\" class=\"dataframe\">\n",
       "  <thead>\n",
       "    <tr style=\"text-align: right;\">\n",
       "      <th></th>\n",
       "      <th>Roll</th>\n",
       "      <th>Name</th>\n",
       "      <th>Maths</th>\n",
       "      <th>Discrete</th>\n",
       "      <th>OS</th>\n",
       "      <th>CO</th>\n",
       "      <th>DS</th>\n",
       "      <th>Total</th>\n",
       "    </tr>\n",
       "  </thead>\n",
       "  <tbody>\n",
       "    <tr>\n",
       "      <th>0</th>\n",
       "      <td>False</td>\n",
       "      <td>False</td>\n",
       "      <td>False</td>\n",
       "      <td>False</td>\n",
       "      <td>False</td>\n",
       "      <td>False</td>\n",
       "      <td>False</td>\n",
       "      <td>False</td>\n",
       "    </tr>\n",
       "    <tr>\n",
       "      <th>1</th>\n",
       "      <td>False</td>\n",
       "      <td>False</td>\n",
       "      <td>False</td>\n",
       "      <td>False</td>\n",
       "      <td>False</td>\n",
       "      <td>False</td>\n",
       "      <td>False</td>\n",
       "      <td>False</td>\n",
       "    </tr>\n",
       "    <tr>\n",
       "      <th>2</th>\n",
       "      <td>False</td>\n",
       "      <td>False</td>\n",
       "      <td>False</td>\n",
       "      <td>False</td>\n",
       "      <td>False</td>\n",
       "      <td>True</td>\n",
       "      <td>False</td>\n",
       "      <td>False</td>\n",
       "    </tr>\n",
       "    <tr>\n",
       "      <th>3</th>\n",
       "      <td>False</td>\n",
       "      <td>False</td>\n",
       "      <td>False</td>\n",
       "      <td>False</td>\n",
       "      <td>False</td>\n",
       "      <td>False</td>\n",
       "      <td>True</td>\n",
       "      <td>False</td>\n",
       "    </tr>\n",
       "    <tr>\n",
       "      <th>4</th>\n",
       "      <td>False</td>\n",
       "      <td>False</td>\n",
       "      <td>False</td>\n",
       "      <td>False</td>\n",
       "      <td>False</td>\n",
       "      <td>False</td>\n",
       "      <td>True</td>\n",
       "      <td>False</td>\n",
       "    </tr>\n",
       "    <tr>\n",
       "      <th>5</th>\n",
       "      <td>False</td>\n",
       "      <td>False</td>\n",
       "      <td>False</td>\n",
       "      <td>False</td>\n",
       "      <td>False</td>\n",
       "      <td>False</td>\n",
       "      <td>False</td>\n",
       "      <td>False</td>\n",
       "    </tr>\n",
       "    <tr>\n",
       "      <th>6</th>\n",
       "      <td>False</td>\n",
       "      <td>False</td>\n",
       "      <td>False</td>\n",
       "      <td>False</td>\n",
       "      <td>False</td>\n",
       "      <td>False</td>\n",
       "      <td>False</td>\n",
       "      <td>False</td>\n",
       "    </tr>\n",
       "    <tr>\n",
       "      <th>7</th>\n",
       "      <td>False</td>\n",
       "      <td>False</td>\n",
       "      <td>False</td>\n",
       "      <td>False</td>\n",
       "      <td>False</td>\n",
       "      <td>False</td>\n",
       "      <td>False</td>\n",
       "      <td>False</td>\n",
       "    </tr>\n",
       "    <tr>\n",
       "      <th>8</th>\n",
       "      <td>False</td>\n",
       "      <td>False</td>\n",
       "      <td>False</td>\n",
       "      <td>False</td>\n",
       "      <td>False</td>\n",
       "      <td>True</td>\n",
       "      <td>False</td>\n",
       "      <td>False</td>\n",
       "    </tr>\n",
       "    <tr>\n",
       "      <th>9</th>\n",
       "      <td>False</td>\n",
       "      <td>False</td>\n",
       "      <td>False</td>\n",
       "      <td>False</td>\n",
       "      <td>False</td>\n",
       "      <td>False</td>\n",
       "      <td>True</td>\n",
       "      <td>False</td>\n",
       "    </tr>\n",
       "    <tr>\n",
       "      <th>10</th>\n",
       "      <td>False</td>\n",
       "      <td>False</td>\n",
       "      <td>False</td>\n",
       "      <td>False</td>\n",
       "      <td>False</td>\n",
       "      <td>False</td>\n",
       "      <td>False</td>\n",
       "      <td>False</td>\n",
       "    </tr>\n",
       "    <tr>\n",
       "      <th>11</th>\n",
       "      <td>False</td>\n",
       "      <td>False</td>\n",
       "      <td>False</td>\n",
       "      <td>False</td>\n",
       "      <td>False</td>\n",
       "      <td>False</td>\n",
       "      <td>False</td>\n",
       "      <td>False</td>\n",
       "    </tr>\n",
       "  </tbody>\n",
       "</table>\n",
       "</div>"
      ],
      "text/plain": [
       "     Roll   Name  Maths  Discrete     OS     CO     DS  Total\n",
       "0   False  False  False     False  False  False  False  False\n",
       "1   False  False  False     False  False  False  False  False\n",
       "2   False  False  False     False  False   True  False  False\n",
       "3   False  False  False     False  False  False   True  False\n",
       "4   False  False  False     False  False  False   True  False\n",
       "5   False  False  False     False  False  False  False  False\n",
       "6   False  False  False     False  False  False  False  False\n",
       "7   False  False  False     False  False  False  False  False\n",
       "8   False  False  False     False  False   True  False  False\n",
       "9   False  False  False     False  False  False   True  False\n",
       "10  False  False  False     False  False  False  False  False\n",
       "11  False  False  False     False  False  False  False  False"
      ]
     },
     "execution_count": 139,
     "metadata": {},
     "output_type": "execute_result"
    }
   ],
   "source": [
    "data.isna()"
   ]
  },
  {
   "cell_type": "code",
   "execution_count": 140,
   "id": "46507cbb",
   "metadata": {},
   "outputs": [
    {
     "data": {
      "text/plain": [
       "Roll        0\n",
       "Name        0\n",
       "Maths       0\n",
       "Discrete    0\n",
       "OS          0\n",
       "CO          2\n",
       "DS          3\n",
       "Total       0\n",
       "dtype: int64"
      ]
     },
     "execution_count": 140,
     "metadata": {},
     "output_type": "execute_result"
    }
   ],
   "source": [
    "data.isnull().sum()"
   ]
  },
  {
   "cell_type": "code",
   "execution_count": 141,
   "id": "338c52cd",
   "metadata": {},
   "outputs": [
    {
     "data": {
      "text/plain": [
       "Roll        10\n",
       "Name        10\n",
       "Maths        8\n",
       "Discrete     4\n",
       "OS           7\n",
       "CO           8\n",
       "DS           3\n",
       "Total        1\n",
       "dtype: int64"
      ]
     },
     "execution_count": 141,
     "metadata": {},
     "output_type": "execute_result"
    }
   ],
   "source": [
    "data.nunique()"
   ]
  },
  {
   "cell_type": "code",
   "execution_count": 142,
   "id": "99283485",
   "metadata": {},
   "outputs": [
    {
     "data": {
      "text/html": [
       "<div>\n",
       "<style scoped>\n",
       "    .dataframe tbody tr th:only-of-type {\n",
       "        vertical-align: middle;\n",
       "    }\n",
       "\n",
       "    .dataframe tbody tr th {\n",
       "        vertical-align: top;\n",
       "    }\n",
       "\n",
       "    .dataframe thead th {\n",
       "        text-align: right;\n",
       "    }\n",
       "</style>\n",
       "<table border=\"1\" class=\"dataframe\">\n",
       "  <thead>\n",
       "    <tr style=\"text-align: right;\">\n",
       "      <th></th>\n",
       "      <th>Roll</th>\n",
       "      <th>Name</th>\n",
       "      <th>Maths</th>\n",
       "      <th>Discrete</th>\n",
       "      <th>OS</th>\n",
       "      <th>CO</th>\n",
       "      <th>DS</th>\n",
       "      <th>Total</th>\n",
       "    </tr>\n",
       "  </thead>\n",
       "  <tbody>\n",
       "    <tr>\n",
       "      <th>0</th>\n",
       "      <td>A1</td>\n",
       "      <td>X</td>\n",
       "      <td>60</td>\n",
       "      <td>70</td>\n",
       "      <td>30</td>\n",
       "      <td>70.0</td>\n",
       "      <td>90.0</td>\n",
       "      <td>100</td>\n",
       "    </tr>\n",
       "    <tr>\n",
       "      <th>1</th>\n",
       "      <td>A2</td>\n",
       "      <td>Y</td>\n",
       "      <td>90</td>\n",
       "      <td>45</td>\n",
       "      <td>67</td>\n",
       "      <td>73.0</td>\n",
       "      <td>50.0</td>\n",
       "      <td>100</td>\n",
       "    </tr>\n",
       "    <tr>\n",
       "      <th>5</th>\n",
       "      <td>B2</td>\n",
       "      <td>J</td>\n",
       "      <td>63</td>\n",
       "      <td>45</td>\n",
       "      <td>67</td>\n",
       "      <td>56.0</td>\n",
       "      <td>50.0</td>\n",
       "      <td>100</td>\n",
       "    </tr>\n",
       "    <tr>\n",
       "      <th>6</th>\n",
       "      <td>C1</td>\n",
       "      <td>K</td>\n",
       "      <td>67</td>\n",
       "      <td>70</td>\n",
       "      <td>30</td>\n",
       "      <td>75.0</td>\n",
       "      <td>40.0</td>\n",
       "      <td>100</td>\n",
       "    </tr>\n",
       "    <tr>\n",
       "      <th>7</th>\n",
       "      <td>C2</td>\n",
       "      <td>L</td>\n",
       "      <td>91</td>\n",
       "      <td>45</td>\n",
       "      <td>67</td>\n",
       "      <td>72.0</td>\n",
       "      <td>50.0</td>\n",
       "      <td>100</td>\n",
       "    </tr>\n",
       "    <tr>\n",
       "      <th>10</th>\n",
       "      <td>E1</td>\n",
       "      <td>X</td>\n",
       "      <td>50</td>\n",
       "      <td>70</td>\n",
       "      <td>30</td>\n",
       "      <td>80.0</td>\n",
       "      <td>90.0</td>\n",
       "      <td>100</td>\n",
       "    </tr>\n",
       "    <tr>\n",
       "      <th>11</th>\n",
       "      <td>E2</td>\n",
       "      <td>Y</td>\n",
       "      <td>60</td>\n",
       "      <td>45</td>\n",
       "      <td>77</td>\n",
       "      <td>73.0</td>\n",
       "      <td>40.0</td>\n",
       "      <td>100</td>\n",
       "    </tr>\n",
       "  </tbody>\n",
       "</table>\n",
       "</div>"
      ],
      "text/plain": [
       "   Roll Name  Maths  Discrete  OS    CO    DS  Total\n",
       "0    A1    X     60        70  30  70.0  90.0    100\n",
       "1    A2    Y     90        45  67  73.0  50.0    100\n",
       "5    B2    J     63        45  67  56.0  50.0    100\n",
       "6    C1    K     67        70  30  75.0  40.0    100\n",
       "7    C2    L     91        45  67  72.0  50.0    100\n",
       "10   E1    X     50        70  30  80.0  90.0    100\n",
       "11   E2    Y     60        45  77  73.0  40.0    100"
      ]
     },
     "execution_count": 142,
     "metadata": {},
     "output_type": "execute_result"
    }
   ],
   "source": [
    "clean=data.dropna()\n",
    "clean"
   ]
  },
  {
   "cell_type": "code",
   "execution_count": 143,
   "id": "0b31dfce",
   "metadata": {},
   "outputs": [
    {
     "data": {
      "text/html": [
       "<div>\n",
       "<style scoped>\n",
       "    .dataframe tbody tr th:only-of-type {\n",
       "        vertical-align: middle;\n",
       "    }\n",
       "\n",
       "    .dataframe tbody tr th {\n",
       "        vertical-align: top;\n",
       "    }\n",
       "\n",
       "    .dataframe thead th {\n",
       "        text-align: right;\n",
       "    }\n",
       "</style>\n",
       "<table border=\"1\" class=\"dataframe\">\n",
       "  <thead>\n",
       "    <tr style=\"text-align: right;\">\n",
       "      <th></th>\n",
       "      <th>Roll</th>\n",
       "      <th>Name</th>\n",
       "      <th>Maths</th>\n",
       "      <th>Discrete</th>\n",
       "      <th>OS</th>\n",
       "      <th>CO</th>\n",
       "      <th>DS</th>\n",
       "      <th>Total</th>\n",
       "    </tr>\n",
       "  </thead>\n",
       "  <tbody>\n",
       "    <tr>\n",
       "      <th>0</th>\n",
       "      <td>A1</td>\n",
       "      <td>X</td>\n",
       "      <td>60</td>\n",
       "      <td>70</td>\n",
       "      <td>30</td>\n",
       "      <td>70.0</td>\n",
       "      <td>90.0</td>\n",
       "      <td>100</td>\n",
       "    </tr>\n",
       "    <tr>\n",
       "      <th>1</th>\n",
       "      <td>A2</td>\n",
       "      <td>Y</td>\n",
       "      <td>90</td>\n",
       "      <td>45</td>\n",
       "      <td>67</td>\n",
       "      <td>73.0</td>\n",
       "      <td>50.0</td>\n",
       "      <td>100</td>\n",
       "    </tr>\n",
       "    <tr>\n",
       "      <th>2</th>\n",
       "      <td>A1</td>\n",
       "      <td>G</td>\n",
       "      <td>60</td>\n",
       "      <td>70</td>\n",
       "      <td>30</td>\n",
       "      <td>NaN</td>\n",
       "      <td>90.0</td>\n",
       "      <td>100</td>\n",
       "    </tr>\n",
       "    <tr>\n",
       "      <th>3</th>\n",
       "      <td>A2</td>\n",
       "      <td>H</td>\n",
       "      <td>40</td>\n",
       "      <td>60</td>\n",
       "      <td>73</td>\n",
       "      <td>50.0</td>\n",
       "      <td>NaN</td>\n",
       "      <td>100</td>\n",
       "    </tr>\n",
       "    <tr>\n",
       "      <th>4</th>\n",
       "      <td>B1</td>\n",
       "      <td>I</td>\n",
       "      <td>50</td>\n",
       "      <td>70</td>\n",
       "      <td>90</td>\n",
       "      <td>90.0</td>\n",
       "      <td>NaN</td>\n",
       "      <td>100</td>\n",
       "    </tr>\n",
       "    <tr>\n",
       "      <th>5</th>\n",
       "      <td>B2</td>\n",
       "      <td>J</td>\n",
       "      <td>63</td>\n",
       "      <td>45</td>\n",
       "      <td>67</td>\n",
       "      <td>56.0</td>\n",
       "      <td>50.0</td>\n",
       "      <td>100</td>\n",
       "    </tr>\n",
       "    <tr>\n",
       "      <th>6</th>\n",
       "      <td>C1</td>\n",
       "      <td>K</td>\n",
       "      <td>67</td>\n",
       "      <td>70</td>\n",
       "      <td>30</td>\n",
       "      <td>75.0</td>\n",
       "      <td>40.0</td>\n",
       "      <td>100</td>\n",
       "    </tr>\n",
       "    <tr>\n",
       "      <th>7</th>\n",
       "      <td>C2</td>\n",
       "      <td>L</td>\n",
       "      <td>91</td>\n",
       "      <td>45</td>\n",
       "      <td>67</td>\n",
       "      <td>72.0</td>\n",
       "      <td>50.0</td>\n",
       "      <td>100</td>\n",
       "    </tr>\n",
       "    <tr>\n",
       "      <th>8</th>\n",
       "      <td>D1</td>\n",
       "      <td>M</td>\n",
       "      <td>40</td>\n",
       "      <td>70</td>\n",
       "      <td>50</td>\n",
       "      <td>NaN</td>\n",
       "      <td>90.0</td>\n",
       "      <td>100</td>\n",
       "    </tr>\n",
       "    <tr>\n",
       "      <th>9</th>\n",
       "      <td>D2</td>\n",
       "      <td>N</td>\n",
       "      <td>5</td>\n",
       "      <td>67</td>\n",
       "      <td>65</td>\n",
       "      <td>50.0</td>\n",
       "      <td>NaN</td>\n",
       "      <td>100</td>\n",
       "    </tr>\n",
       "    <tr>\n",
       "      <th>10</th>\n",
       "      <td>E1</td>\n",
       "      <td>X</td>\n",
       "      <td>50</td>\n",
       "      <td>70</td>\n",
       "      <td>30</td>\n",
       "      <td>80.0</td>\n",
       "      <td>90.0</td>\n",
       "      <td>100</td>\n",
       "    </tr>\n",
       "    <tr>\n",
       "      <th>11</th>\n",
       "      <td>E2</td>\n",
       "      <td>Y</td>\n",
       "      <td>60</td>\n",
       "      <td>45</td>\n",
       "      <td>77</td>\n",
       "      <td>73.0</td>\n",
       "      <td>40.0</td>\n",
       "      <td>100</td>\n",
       "    </tr>\n",
       "  </tbody>\n",
       "</table>\n",
       "</div>"
      ],
      "text/plain": [
       "   Roll Name  Maths  Discrete  OS    CO    DS  Total\n",
       "0    A1    X     60        70  30  70.0  90.0    100\n",
       "1    A2    Y     90        45  67  73.0  50.0    100\n",
       "2    A1    G     60        70  30   NaN  90.0    100\n",
       "3    A2    H     40        60  73  50.0   NaN    100\n",
       "4    B1    I     50        70  90  90.0   NaN    100\n",
       "5    B2    J     63        45  67  56.0  50.0    100\n",
       "6    C1    K     67        70  30  75.0  40.0    100\n",
       "7    C2    L     91        45  67  72.0  50.0    100\n",
       "8    D1    M     40        70  50   NaN  90.0    100\n",
       "9    D2    N      5        67  65  50.0   NaN    100\n",
       "10   E1    X     50        70  30  80.0  90.0    100\n",
       "11   E2    Y     60        45  77  73.0  40.0    100"
      ]
     },
     "execution_count": 143,
     "metadata": {},
     "output_type": "execute_result"
    }
   ],
   "source": [
    "data"
   ]
  },
  {
   "cell_type": "code",
   "execution_count": null,
   "id": "d625553f",
   "metadata": {},
   "outputs": [],
   "source": []
  }
 ],
 "metadata": {
  "kernelspec": {
   "display_name": "Python 3",
   "language": "python",
   "name": "python3"
  },
  "language_info": {
   "codemirror_mode": {
    "name": "ipython",
    "version": 3
   },
   "file_extension": ".py",
   "mimetype": "text/x-python",
   "name": "python",
   "nbconvert_exporter": "python",
   "pygments_lexer": "ipython3",
   "version": "3.8.8"
  }
 },
 "nbformat": 4,
 "nbformat_minor": 5
}
